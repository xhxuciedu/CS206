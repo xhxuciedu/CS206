{
  "nbformat": 4,
  "nbformat_minor": 0,
  "metadata": {
    "colab": {
      "name": "cvxpy_tutorial.ipynb",
      "provenance": [],
      "authorship_tag": "ABX9TyMp9XW2L+INViszGMsZqtOt",
      "include_colab_link": true
    },
    "kernelspec": {
      "name": "python3",
      "display_name": "Python 3"
    }
  },
  "cells": [
    {
      "cell_type": "markdown",
      "metadata": {
        "id": "view-in-github",
        "colab_type": "text"
      },
      "source": [
        "<a href=\"https://colab.research.google.com/github/xhxuciedu/CS206/blob/master/cvxpy_tutorial.ipynb\" target=\"_parent\"><img src=\"https://colab.research.google.com/assets/colab-badge.svg\" alt=\"Open In Colab\"/></a>"
      ]
    },
    {
      "cell_type": "code",
      "metadata": {
        "id": "zpurO5nB6NDI",
        "colab_type": "code",
        "outputId": "43113950-8f6a-4759-9055-8931548cf1f5",
        "colab": {
          "base_uri": "https://localhost:8080/",
          "height": 146
        }
      },
      "source": [
        "# Import packages.\n",
        "import cvxpy as cp\n",
        "import numpy as np\n",
        "\n",
        "# Generate data.\n",
        "m = 20\n",
        "n = 15\n",
        "np.random.seed(1)\n",
        "A = np.random.randn(m, n)\n",
        "b = np.random.randn(m)\n",
        "\n",
        "# Define and solve the CVXPY problem.\n",
        "x = cp.Variable(n)\n",
        "cost = cp.sum_squares(A @ x - b)\n",
        "prob = cp.Problem(cp.Minimize(cost))\n",
        "prob.solve()\n",
        "\n",
        "# Print result.\n",
        "print(\"\\nThe optimal value is\", prob.value)\n",
        "print(\"The optimal x is\")\n",
        "print(x.value)\n",
        "print(\"The norm of the residual is \", cp.norm(A @ x - b, p=2).value)"
      ],
      "execution_count": 0,
      "outputs": [
        {
          "output_type": "stream",
          "text": [
            "\n",
            "The optimal value is 7.005909828287484\n",
            "The optimal x is\n",
            "[ 0.17492418 -0.38102551  0.34732251  0.0173098  -0.0845784  -0.08134019\n",
            "  0.293119    0.27019762  0.17493179 -0.23953449  0.64097935 -0.41633637\n",
            "  0.12799688  0.1063942  -0.32158411]\n",
            "The norm of the residual is  2.6468679280023557\n"
          ],
          "name": "stdout"
        }
      ]
    },
    {
      "cell_type": "code",
      "metadata": {
        "id": "Nv3z0cKx6QGM",
        "colab_type": "code",
        "outputId": "d71bf7f9-cefb-4379-b16d-d7db6987cd19",
        "colab": {
          "base_uri": "https://localhost:8080/",
          "height": 35
        }
      },
      "source": [
        "x"
      ],
      "execution_count": 0,
      "outputs": [
        {
          "output_type": "execute_result",
          "data": {
            "text/plain": [
              "Variable((15,))"
            ]
          },
          "metadata": {
            "tags": []
          },
          "execution_count": 2
        }
      ]
    },
    {
      "cell_type": "code",
      "metadata": {
        "id": "4boT6ozd6Vzh",
        "colab_type": "code",
        "outputId": "3ee19968-cabd-4f4d-817d-00ea55e312b0",
        "colab": {
          "base_uri": "https://localhost:8080/",
          "height": 35
        }
      },
      "source": [
        "cost"
      ],
      "execution_count": 0,
      "outputs": [
        {
          "output_type": "execute_result",
          "data": {
            "text/plain": [
              "Expression(CONVEX, NONNEGATIVE, ())"
            ]
          },
          "metadata": {
            "tags": []
          },
          "execution_count": 3
        }
      ]
    },
    {
      "cell_type": "code",
      "metadata": {
        "id": "49IiYYpy6Yli",
        "colab_type": "code",
        "outputId": "c0efff72-921a-4f67-8210-bfe6abab8548",
        "colab": {
          "base_uri": "https://localhost:8080/",
          "height": 35
        }
      },
      "source": [
        "prob"
      ],
      "execution_count": 0,
      "outputs": [
        {
          "output_type": "execute_result",
          "data": {
            "text/plain": [
              "Problem(Minimize(Expression(CONVEX, NONNEGATIVE, ())), [])"
            ]
          },
          "metadata": {
            "tags": []
          },
          "execution_count": 4
        }
      ]
    },
    {
      "cell_type": "code",
      "metadata": {
        "id": "haGQ2_ST6dUx",
        "colab_type": "code",
        "outputId": "c4eae1fa-6612-45c0-bc7a-973d1bacd46d",
        "colab": {
          "base_uri": "https://localhost:8080/",
          "height": 35
        }
      },
      "source": [
        "prob.value"
      ],
      "execution_count": 0,
      "outputs": [
        {
          "output_type": "execute_result",
          "data": {
            "text/plain": [
              "7.005909828287484"
            ]
          },
          "metadata": {
            "tags": []
          },
          "execution_count": 5
        }
      ]
    }
  ]
}