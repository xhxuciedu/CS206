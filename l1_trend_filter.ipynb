{
  "nbformat": 4,
  "nbformat_minor": 0,
  "metadata": {
    "kernelspec": {
      "display_name": "Python 3",
      "language": "python",
      "name": "python3"
    },
    "language_info": {
      "codemirror_mode": {
        "name": "ipython",
        "version": 3
      },
      "file_extension": ".py",
      "mimetype": "text/x-python",
      "name": "python",
      "nbconvert_exporter": "python",
      "pygments_lexer": "ipython3",
      "version": "3.6.6"
    },
    "colab": {
      "name": "l1_trend_filter.ipynb",
      "provenance": [],
      "include_colab_link": true
    }
  },
  "cells": [
    {
      "cell_type": "markdown",
      "metadata": {
        "id": "view-in-github",
        "colab_type": "text"
      },
      "source": [
        "<a href=\"https://colab.research.google.com/github/xhxuciedu/CS206/blob/master/l1_trend_filter.ipynb\" target=\"_parent\"><img src=\"https://colab.research.google.com/assets/colab-badge.svg\" alt=\"Open In Colab\"/></a>"
      ]
    },
    {
      "cell_type": "markdown",
      "metadata": {
        "id": "QXeYLYsP6rle",
        "colab_type": "text"
      },
      "source": [
        "# Problem: $\\ell_1$ trend filtering\n",
        "\n",
        "## Introduction\n",
        "\n",
        "The problem of estimating underlying trends in time series data arises in a variety of disciplines. The $\\ell_1$ trend filtering method produces trend estimates $x$ that are piecewise linear from the time series $y\\in R^n$.\n",
        "\n",
        "The $\\ell_1$ trend estimation problem can be formulated as\n",
        "    \\begin{array}{ll}\n",
        "    \\mbox{minimize}   &  (1/2)||y-x||_2^2 + \\lambda ||Dx||_1,\n",
        "    \\end{array}\n",
        "with variable $x\\in R^n$ , and problem data $y\\in R^n$ and $\\lambda$, with $\\lambda >0$.\n",
        "\n",
        "$D$ is the $(n-2)\\times n$ second difference matrix, \n",
        "$$\n",
        "D = \\begin{bmatrix}\n",
        "    1 & -2 & 1 &  &  & \\\\\n",
        "     & 1 & -2 & 1 &  & \\\\\n",
        "     & & \\ddots & \\ddots & \\ddots \\\\\n",
        "     &  &   & 1 & -2 & 1 \n",
        "    \\end{bmatrix}.\n",
        "$$\n"
      ]
    },
    {
      "cell_type": "code",
      "metadata": {
        "id": "N3YLFcWqB_1G",
        "colab_type": "code",
        "colab": {}
      },
      "source": [
        "import numpy as np\n",
        "import pandas as pd\n",
        "import scipy as scipy\n",
        "import scipy.sparse as sparse\n",
        "from scipy.sparse.linalg import spsolve\n",
        "import matplotlib.pyplot as plt"
      ],
      "execution_count": 0,
      "outputs": []
    },
    {
      "cell_type": "markdown",
      "metadata": {
        "id": "8rntT-wf_xYw",
        "colab_type": "text"
      },
      "source": [
        "## Load data. DON'T CHANGE THIS BLOCK"
      ]
    },
    {
      "cell_type": "code",
      "metadata": {
        "id": "-K4kUKkVgxG-",
        "colab_type": "code",
        "colab": {}
      },
      "source": [
        "# download data\n",
        "# imported the requests library \n",
        "import requests \n",
        "data_url = \"https://drive.google.com/uc?export=download&id=1fAFU6DMI8Xt-nF0YcAq1XPc0Hs3p88Gf\"\n",
        "r = requests.get(data_url) # create HTTP response object \n",
        "  \n",
        "# send a HTTP request to the server and save the HTTP response in a response object called r \n",
        "with open(\"snp500.csv\",'wb') as f: \n",
        "    # Saving received content as a file \n",
        "    # write the contents of the response (r.content) \n",
        "    # to a new file in binary mode. \n",
        "    f.write(r.content) "
      ],
      "execution_count": 0,
      "outputs": []
    },
    {
      "cell_type": "code",
      "metadata": {
        "id": "uocOIStY_397",
        "colab_type": "code",
        "colab": {}
      },
      "source": [
        "SPY = pd.read_csv('snp500.csv', header=None, names=['date','price'], parse_dates=['date'])\n",
        "SPY = SPY.set_index('date')"
      ],
      "execution_count": 0,
      "outputs": []
    },
    {
      "cell_type": "code",
      "metadata": {
        "id": "fHw7KK-HBMsJ",
        "colab_type": "code",
        "colab": {}
      },
      "source": [
        "data = SPY['price']['2017':]"
      ],
      "execution_count": 0,
      "outputs": []
    },
    {
      "cell_type": "code",
      "metadata": {
        "id": "2d7cOD6_B_6T",
        "colab_type": "code",
        "colab": {}
      },
      "source": [
        "# Load time series data: S&P 500 price log.\n",
        "#y = np.loadtxt(open('data/snp500.txt', 'rb'), delimiter=\",\", skiprows=1)\n",
        "y = data.values\n",
        "n = y.size\n",
        "\n",
        "# Form second difference matrix.\n",
        "e = np.ones((1, n))\n",
        "D = sparse.spdiags(np.vstack((e, -2*e, e)), range(3), n-2, n)\n",
        "\n",
        "# Set regularization parameter.\n",
        "vlambda = 50"
      ],
      "execution_count": 0,
      "outputs": []
    },
    {
      "cell_type": "markdown",
      "metadata": {
        "id": "2VOol2JfCQtJ",
        "colab_type": "text"
      },
      "source": [
        "##  Use cvxpy to solve the problem - No need to change. For reference only"
      ]
    },
    {
      "cell_type": "code",
      "metadata": {
        "id": "IxPvyNJiiyht",
        "colab_type": "code",
        "colab": {}
      },
      "source": [
        "import cvxpy as cp\n",
        "import cvxopt as cvxopt"
      ],
      "execution_count": 0,
      "outputs": []
    },
    {
      "cell_type": "code",
      "metadata": {
        "id": "nOn1JniJ6rlj",
        "colab_type": "code",
        "outputId": "2b002598-c210-41e9-dea5-e7a3cf9655f6",
        "colab": {
          "base_uri": "https://localhost:8080/",
          "height": 538
        }
      },
      "source": [
        "# Solve l1 trend filtering problem.\n",
        "x = cp.Variable(shape=n)\n",
        "obj = cp.Minimize(0.5 * cp.sum_squares(y - x)\n",
        "                  + vlambda * cp.norm(D*x, 1) )\n",
        "prob = cp.Problem(obj)\n",
        "\n",
        "# ECOS and SCS solvers fail to converge before\n",
        "# the iteration limit. Use CVXOPT instead.\n",
        "prob.solve(solver=cp.CVXOPT, verbose=True)\n",
        "print('Solver status: {}'.format(prob.status))\n",
        "\n",
        "# Check for error.\n",
        "if prob.status != cp.OPTIMAL:\n",
        "    raise Exception(\"Solver did not converge!\")\n",
        "\n",
        "print(\"optimal objective value: {}\".format(obj.value))"
      ],
      "execution_count": 184,
      "outputs": [
        {
          "output_type": "stream",
          "text": [
            "     pcost       dcost       gap    pres   dres   k/t\n",
            " 0:  0.0000e+00 -1.0000e+00  2e+06  1e-01  4e-02  1e+00\n",
            " 1:  2.2669e+02  2.4614e+02  2e+06  1e-01  4e-02  2e+01\n",
            " 2: -1.4429e+02  3.9345e+00  2e+06  1e-01  4e-02  2e+02\n",
            " 3: -6.8835e+01  7.0022e+01  1e+06  7e-02  2e-02  1e+02\n",
            " 4:  4.1348e+02  5.7010e+02  1e+06  7e-02  2e-02  2e+02\n",
            " 5: -1.2612e+02  1.1485e+02  6e+05  4e-02  1e-02  2e+02\n",
            " 6:  7.6088e+01  2.5384e+02  4e+05  3e-02  7e-03  2e+02\n",
            " 7:  9.3038e+02  1.1129e+03  4e+05  3e-02  7e-03  2e+02\n",
            " 8:  8.0347e+02  8.9064e+02  2e+05  1e-02  3e-03  9e+01\n",
            " 9:  1.8726e+03  1.9144e+03  7e+04  5e-03  1e-03  4e+01\n",
            "10:  2.2036e+03  2.2272e+03  4e+04  3e-03  7e-04  2e+01\n",
            "11:  2.7131e+03  2.7371e+03  4e+04  3e-03  7e-04  2e+01\n",
            "12:  2.7184e+03  2.7314e+03  2e+04  1e-03  4e-04  1e+01\n",
            "13:  3.3731e+03  3.3775e+03  7e+03  5e-04  1e-04  4e+00\n",
            "14:  3.7551e+03  3.7564e+03  2e+03  1e-04  4e-05  1e+00\n",
            "15:  3.8911e+03  3.8915e+03  8e+02  5e-05  1e-05  5e-01\n",
            "16:  3.9436e+03  3.9439e+03  4e+02  3e-05  8e-06  3e-01\n",
            "17:  3.9546e+03  3.9547e+03  2e+02  1e-05  4e-06  1e-01\n",
            "18:  3.9731e+03  3.9732e+03  1e+02  6e-06  2e-06  6e-02\n",
            "19:  3.9795e+03  3.9795e+03  2e+01  1e-06  4e-07  1e-02\n",
            "20:  3.9798e+03  3.9798e+03  2e+01  1e-06  3e-07  1e-02\n",
            "21:  3.9809e+03  3.9809e+03  3e+00  2e-07  5e-08  2e-03\n",
            "22:  3.9811e+03  3.9811e+03  3e-01  2e-08  6e-09  2e-04\n",
            "23:  3.9811e+03  3.9811e+03  3e-02  2e-09  5e-10  2e-05\n",
            "24:  3.9811e+03  3.9811e+03  5e-03  3e-10  1e-10  3e-06\n",
            "25:  3.9811e+03  3.9811e+03  1e-03  7e-11  5e-10  7e-07\n",
            "Optimal solution found.\n",
            "Solver status: optimal\n",
            "optimal objective value: 3981.06971537389\n"
          ],
          "name": "stdout"
        }
      ]
    },
    {
      "cell_type": "markdown",
      "metadata": {
        "id": "qpiLS_I-6rlu",
        "colab_type": "text"
      },
      "source": [
        "## Plot the solution found by cvxpy"
      ]
    },
    {
      "cell_type": "code",
      "metadata": {
        "id": "z1hjyyM6GS0v",
        "colab_type": "code",
        "outputId": "56f864c7-505c-4db3-a916-255fdcd4f233",
        "colab": {
          "base_uri": "https://localhost:8080/",
          "height": 388
        }
      },
      "source": [
        "# Plot estimated trend with original signal.\n",
        "fig,ax = plt.subplots(figsize=(15, 6))\n",
        "ax.plot(data.index, y, 'g-', linewidth=1.0)\n",
        "ax.plot(data.index, np.array(x.value), 'b-', linewidth=2.0)\n",
        "ax.set_xlabel('date')\n",
        "ax.set_ylabel('log price')\n",
        "ax.grid()"
      ],
      "execution_count": 185,
      "outputs": [
        {
          "output_type": "display_data",
          "data": {
            "image/png": "[encoded data removed]",
            "text/plain": [
              "<Figure size 1080x432 with 1 Axes>"
            ]
          },
          "metadata": {
            "tags": []
          }
        }
      ]
    },
    {
      "cell_type": "markdown",
      "metadata": {
        "id": "4Gbk-uwKouI8",
        "colab_type": "text"
      },
      "source": [
        "## Implementing an ADMM (Alternative Direction Method of Multipliers) method\n"
      ]
    },
    {
      "cell_type": "code",
      "metadata": {
        "id": "GAKtRmCxbJUJ",
        "colab_type": "code",
        "colab": {}
      },
      "source": [
        "# define the primal objective function\n",
        "def objective_primal(x,y,vlambda,D):\n",
        "    return np.linalg.norm(x-y)**2/2 + vlambda*np.linalg.norm(D*x,1)"
      ],
      "execution_count": 0,
      "outputs": []
    },
    {
      "cell_type": "code",
      "metadata": {
        "id": "-BQ4gVk0umcD",
        "colab_type": "code",
        "outputId": "e149f468-f7a6-4345-8c63-1762ca6503f1",
        "colab": {
          "base_uri": "https://localhost:8080/",
          "height": 34
        }
      },
      "source": [
        "# TEST THE PRIMAL OBJECTIVE FUNCTION - DON'T CHANGE\n",
        "# Your output should be 88738.712\n",
        "print('test primal objective: {:.3f}'.format(objective_primal(y,y, vlambda, D)))  # if we set x=y"
      ],
      "execution_count": 210,
      "outputs": [
        {
          "output_type": "stream",
          "text": [
            "test primal objective: 88738.712\n"
          ],
          "name": "stdout"
        }
      ]
    },
    {
      "cell_type": "code",
      "metadata": {
        "colab_type": "code",
        "id": "lbkWwdWaIZhf",
        "colab": {}
      },
      "source": [
        "# define the dual objective function\n",
        "def objective_dual(nu, y, vlambda, D):\n",
        "    eps = 1e-5\n",
        "    if ((nu<=vlambda+eps) & (nu>=-vlambda-eps)).all():\n",
        "      tmp= D.T.dot(nu)\n",
        "      return -np.linalg.norm(tmp)**2/2 + y.dot(tmp)\n",
        "    else:\n",
        "      return float('-inf')"
      ],
      "execution_count": 0,
      "outputs": []
    },
    {
      "cell_type": "code",
      "metadata": {
        "id": "RQIB33B4Iamj",
        "colab_type": "code",
        "colab": {
          "base_uri": "https://localhost:8080/",
          "height": 34
        },
        "outputId": "579b65a7-9ab1-4859-9e71-f8593666e4ed"
      },
      "source": [
        "# TEST THE DUAL OBJECTIVE FUNCTION - DON'T CHANGE\n",
        "np.random.seed(1)\n",
        "nu = np.random.randn(n-2)\n",
        "# Your output should be -2462.458\n",
        "print('test dual objective: {:.3f}'.format(objective_dual(nu, y, vlambda, D)))"
      ],
      "execution_count": 209,
      "outputs": [
        {
          "output_type": "stream",
          "text": [
            "test dual objective: -2462.458\n"
          ],
          "name": "stdout"
        }
      ]
    },
    {
      "cell_type": "code",
      "metadata": {
        "id": "CA7MfhfH0Kum",
        "colab_type": "code",
        "colab": {}
      },
      "source": [
        "# Implement the soft-threshold function\n",
        "def soft_threshold(v, a):\n",
        "  # v is a vector; a is a sclar\n",
        "  return np.maximum(v-a,0) - np.maximum(-v-a,0)"
      ],
      "execution_count": 0,
      "outputs": []
    },
    {
      "cell_type": "code",
      "metadata": {
        "id": "5zannct70j5m",
        "colab_type": "code",
        "outputId": "ccf4561b-1e5b-4df7-8af1-6c425157f366",
        "colab": {
          "base_uri": "https://localhost:8080/",
          "height": 34
        }
      },
      "source": [
        "# TEST THE SOFT THRESHOLD FUNCTION\n",
        "v = np.array([-10, 0.5, 10])\n",
        "a = 2.5\n",
        "# Your output should be [-7.5, 0., 7.5]\n",
        "print(soft_threshold(v,a))"
      ],
      "execution_count": 218,
      "outputs": [
        {
          "output_type": "stream",
          "text": [
            "[-7.5  0.   7.5]\n"
          ],
          "name": "stdout"
        }
      ]
    },
    {
      "cell_type": "code",
      "metadata": {
        "id": "95yriTGCsf91",
        "colab_type": "code",
        "colab": {}
      },
      "source": [
        "def ADMM(y, D, vlambda, rho=1.0, init_value=None):\n",
        "  # initialize\n",
        "  if init_value is None:\n",
        "    x = y.copy()\n",
        "    z = D.dot(x)\n",
        "    nu = np.zeros(D.shape[0])\n",
        "  else:\n",
        "    x, z, nu = init_value\n",
        "  \n",
        "  A = rho*D.T.dot(D)+sparse.identity(D.shape[1])\n",
        "\n",
        "  obj_pri = objective_primal(x, y, vlambda, D)\n",
        "  obj_dua = objective_dual(nu, y, vlambda, D)\n",
        "  # iteration\n",
        "  i = 0\n",
        "  while obj_pri-obj_dua > 0.1 and i < 5000:\n",
        "    i += 1\n",
        "\n",
        "    x = spsolve(A, y+rho*D.T*(z-nu/rho))\n",
        "    z = soft_threshold(D*x+nu/rho, vlambda/rho)\n",
        "    nu = nu + rho*(D*x-z)\n",
        "\n",
        "    obj_pri = objective_primal(x, y, vlambda, D)\n",
        "    obj_dua = objective_dual(nu, y, vlambda, D)\n",
        "\n",
        "    print('Iter: {:d} |Dx-z|={:.2f} Primal: {:.3f} Dual: {:.3f} Gap: {:.3f}'.format(i, np.linalg.norm(D*x-z), obj_pri, obj_dua, obj_pri-obj_dua))\n",
        "\n",
        "  return x, z, nu"
      ],
      "execution_count": 0,
      "outputs": []
    },
    {
      "cell_type": "code",
      "metadata": {
        "id": "Ot9X2druwZQo",
        "colab_type": "code",
        "colab": {}
      },
      "source": [
        "tmp = ADMM(y, D, vlambda, 20)"
      ],
      "execution_count": 0,
      "outputs": []
    },
    {
      "cell_type": "code",
      "metadata": {
        "id": "3xUdnK5d4CYa",
        "colab_type": "code",
        "colab": {}
      },
      "source": [
        ""
      ],
      "execution_count": 0,
      "outputs": []
    },
    {
      "cell_type": "code",
      "metadata": {
        "id": "1icXuN2_1zWx",
        "colab_type": "code",
        "colab": {}
      },
      "source": [
        ""
      ],
      "execution_count": 0,
      "outputs": []
    }
  ]
}