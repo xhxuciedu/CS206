{
  "nbformat": 4,
  "nbformat_minor": 0,
  "metadata": {
    "kernelspec": {
      "display_name": "Python 3",
      "language": "python",
      "name": "python3"
    },
    "language_info": {
      "codemirror_mode": {
        "name": "ipython",
        "version": 3
      },
      "file_extension": ".py",
      "mimetype": "text/x-python",
      "name": "python",
      "nbconvert_exporter": "python",
      "pygments_lexer": "ipython3",
      "version": "3.6.6"
    },
    "colab": {
      "name": "l1_trend_filter.ipynb",
      "provenance": [],
      "include_colab_link": true
    }
  },
  "cells": [
    {
      "cell_type": "markdown",
      "metadata": {
        "id": "view-in-github",
        "colab_type": "text"
      },
      "source": [
        "<a href=\"https://colab.research.google.com/github/xhxuciedu/CS206/blob/master/l1_trend_filter.ipynb\" target=\"_parent\"><img src=\"https://colab.research.google.com/assets/colab-badge.svg\" alt=\"Open In Colab\"/></a>"
      ]
    },
    {
      "cell_type": "markdown",
      "metadata": {
        "id": "QXeYLYsP6rle",
        "colab_type": "text"
      },
      "source": [
        "# $\\ell_1$ trend filtering\n",
        "\n",
        "A derivative work by Judson Wilson, 5/28/2014.<br>\n",
        "Adapted from the CVX example of the same name, by Kwangmoo Koh, 12/10/2007\n",
        "\n",
        "Topic Reference:\n",
        "\n",
        "* S.-J. Kim, K. Koh, S. Boyd, and D. Gorinevsky, ``l_1 Trend Filtering''<br>\n",
        "http://stanford.edu/~boyd/papers/l1_trend_filter.html\n",
        "\n",
        "## Introduction\n",
        "\n",
        "The problem of estimating underlying trends in time series data arises in a variety of disciplines. The $\\ell_1$ trend filtering method produces trend estimates $x$ that are piecewise linear from the time series $y$.\n",
        "\n",
        "The $\\ell_1$ trend estimation problem can be formulated as\n",
        "    \\begin{array}{ll}\n",
        "    \\mbox{minimize}   &  (1/2)||y-x||_2^2 + \\lambda ||Dx||_1,\n",
        "    \\end{array}\n",
        "with variable $x$ , and problem data $y$ and $\\lambda$, with $\\lambda >0$.\n",
        "$D$ is the second difference matrix, with rows \n",
        "    $$\\begin{bmatrix}0 & \\cdots & 0 & -1 & 2 & -1 & 0 & \\cdots & 0 \\end{bmatrix}.$$\n",
        "CVXPY is not optimized for the $\\ell_1$ trend filtering problem.\n",
        "For large problems, use l1_tf (http://www.stanford.edu/~boyd/l1_tf/).\n",
        "\n",
        "## Formulate and solve problem"
      ]
    },
    {
      "cell_type": "code",
      "metadata": {
        "id": "N3YLFcWqB_1G",
        "colab_type": "code",
        "colab": {}
      },
      "source": [
        "import numpy as np\n",
        "import pandas as pd\n",
        "import scipy as scipy\n",
        "import scipy.sparse as sparse\n",
        "import matplotlib.pyplot as plt"
      ],
      "execution_count": 0,
      "outputs": []
    },
    {
      "cell_type": "markdown",
      "metadata": {
        "id": "8rntT-wf_xYw",
        "colab_type": "text"
      },
      "source": [
        "## load data"
      ]
    },
    {
      "cell_type": "code",
      "metadata": {
        "id": "-K4kUKkVgxG-",
        "colab_type": "code",
        "colab": {}
      },
      "source": [
        "# download data\n",
        "# imported the requests library \n",
        "import requests \n",
        "data_url = \"https://drive.google.com/uc?export=download&id=1fAFU6DMI8Xt-nF0YcAq1XPc0Hs3p88Gf\"\n",
        "r = requests.get(data_url) # create HTTP response object \n",
        "  \n",
        "# send a HTTP request to the server and save the HTTP response in a response object called r \n",
        "with open(\"snp500.csv\",'wb') as f: \n",
        "    # Saving received content as a file \n",
        "    # write the contents of the response (r.content) \n",
        "    # to a new file in binary mode. \n",
        "    f.write(r.content) "
      ],
      "execution_count": 0,
      "outputs": []
    },
    {
      "cell_type": "code",
      "metadata": {
        "id": "uocOIStY_397",
        "colab_type": "code",
        "colab": {}
      },
      "source": [
        "SPY = pd.read_csv('snp500.csv', header=None, names=['date','price'], parse_dates=['date'])"
      ],
      "execution_count": 0,
      "outputs": []
    },
    {
      "cell_type": "code",
      "metadata": {
        "id": "w2PrDljJ_4BP",
        "colab_type": "code",
        "colab": {}
      },
      "source": [
        "SPY = SPY.set_index('date')"
      ],
      "execution_count": 0,
      "outputs": []
    },
    {
      "cell_type": "code",
      "metadata": {
        "id": "i4S6c1y9BMvN",
        "colab_type": "code",
        "outputId": "06894ed9-0bde-4d92-fb6c-fb7b964e028d",
        "colab": {
          "base_uri": "https://localhost:8080/",
          "height": 337
        }
      },
      "source": [
        "SPY.plot(figsize=(10,5))"
      ],
      "execution_count": 251,
      "outputs": [
        {
          "output_type": "execute_result",
          "data": {
            "text/plain": [
              "<matplotlib.axes._subplots.AxesSubplot at 0x7f4a6f46b5c0>"
            ]
          },
          "metadata": {
            "tags": []
          },
          "execution_count": 251
        },
        {
          "output_type": "display_data",
          "data": {
            "image/png": "[encoded data removed]",
            "text/plain": [
              "<Figure size 720x360 with 1 Axes>"
            ]
          },
          "metadata": {
            "tags": []
          }
        }
      ]
    },
    {
      "cell_type": "code",
      "metadata": {
        "id": "fHw7KK-HBMsJ",
        "colab_type": "code",
        "colab": {}
      },
      "source": [
        "data = SPY['price']['2017':]"
      ],
      "execution_count": 0,
      "outputs": []
    },
    {
      "cell_type": "code",
      "metadata": {
        "id": "2d7cOD6_B_6T",
        "colab_type": "code",
        "colab": {}
      },
      "source": [
        "# Load time series data: S&P 500 price log.\n",
        "#y = np.loadtxt(open('data/snp500.txt', 'rb'), delimiter=\",\", skiprows=1)\n",
        "y = data.values\n",
        "n = y.size\n",
        "\n",
        "# Form second difference matrix.\n",
        "e = np.ones((1, n))\n",
        "D = sparse.spdiags(np.vstack((e, -2*e, e)), range(3), n-2, n)"
      ],
      "execution_count": 0,
      "outputs": []
    },
    {
      "cell_type": "markdown",
      "metadata": {
        "id": "GYzjhGAgVazd",
        "colab_type": "text"
      },
      "source": [
        "## Subgradient method"
      ]
    },
    {
      "cell_type": "code",
      "metadata": {
        "id": "mwraQLSGVefX",
        "colab_type": "code",
        "colab": {}
      },
      "source": [
        "#x = np.random.randn(n)\n",
        "x = y.copy()"
      ],
      "execution_count": 0,
      "outputs": []
    },
    {
      "cell_type": "code",
      "metadata": {
        "id": "GAKtRmCxbJUJ",
        "colab_type": "code",
        "colab": {}
      },
      "source": [
        "def loss(x,y,D):\n",
        "    return np.linalg.norm(x-y)**2/2 + vlambda*np.linalg.norm(D*x,1)"
      ],
      "execution_count": 0,
      "outputs": []
    },
    {
      "cell_type": "code",
      "metadata": {
        "id": "gPIJwtgrXd3S",
        "colab_type": "code",
        "colab": {
          "base_uri": "https://localhost:8080/",
          "height": 538
        },
        "outputId": "80e4f3dc-ce89-4159-c144-828154944b8f"
      },
      "source": [
        "t = 1e-5 \n",
        "vlambda = 50\n",
        "for i in range(150000):\n",
        "  dx = x-y + vlambda*D.T.dot(np.sign(D*x)) # gradient\n",
        "  x -= t*dx\n",
        "  \n",
        "  if i%5000 == 0:\n",
        "    print(i, loss(x,y,D))"
      ],
      "execution_count": 301,
      "outputs": [
        {
          "output_type": "stream",
          "text": [
            "0 88567.40325007781\n",
            "5000 10655.0240892831\n",
            "10000 7481.378089476337\n",
            "15000 6236.862725473443\n",
            "20000 5582.750204997933\n",
            "25000 5189.592105581267\n",
            "30000 4935.601876681686\n",
            "35000 4772.233389599617\n",
            "40000 4662.086197555547\n",
            "45000 4569.437152427115\n",
            "50000 4493.617870477365\n",
            "55000 4428.643854218492\n",
            "60000 4377.47940607224\n",
            "65000 4331.219459094715\n",
            "70000 4291.433326992523\n",
            "75000 4261.480473414531\n",
            "80000 4239.149490172328\n",
            "85000 4217.946827949447\n",
            "90000 4194.6632827449685\n",
            "95000 4177.321985286158\n",
            "100000 4166.77435931254\n",
            "105000 4148.413926001487\n",
            "110000 4135.673944234363\n",
            "115000 4124.204653729808\n",
            "120000 4117.692287667032\n",
            "125000 4107.695725843364\n",
            "130000 4100.922287149873\n",
            "135000 4095.1800028666157\n",
            "140000 4083.7922260006953\n",
            "145000 4079.867632219013\n"
          ],
          "name": "stdout"
        }
      ]
    },
    {
      "cell_type": "code",
      "metadata": {
        "id": "swGJYwwnYVyX",
        "colab_type": "code",
        "colab": {
          "base_uri": "https://localhost:8080/",
          "height": 282
        },
        "outputId": "38b3a37b-a06a-42ba-fcfb-940995ebb789"
      },
      "source": [
        "plt.plot(x2, x,   '.')"
      ],
      "execution_count": 302,
      "outputs": [
        {
          "output_type": "execute_result",
          "data": {
            "text/plain": [
              "[<matplotlib.lines.Line2D at 0x7f4a6ed78da0>]"
            ]
          },
          "metadata": {
            "tags": []
          },
          "execution_count": 302
        },
        {
          "output_type": "display_data",
          "data": {
            "image/png": "[encoded data removed]",
            "text/plain": [
              "<Figure size 432x288 with 1 Axes>"
            ]
          },
          "metadata": {
            "tags": []
          }
        }
      ]
    },
    {
      "cell_type": "code",
      "metadata": {
        "id": "Pbff-qUcgtfI",
        "colab_type": "code",
        "colab": {
          "base_uri": "https://localhost:8080/",
          "height": 34
        },
        "outputId": "dc7aac28-5df5-4966-fea4-e8f8abdd5bfa"
      },
      "source": [
        "#x2 = x.value\n",
        "loss(x2,y,D)"
      ],
      "execution_count": 289,
      "outputs": [
        {
          "output_type": "execute_result",
          "data": {
            "text/plain": [
              "3981.0697153738906"
            ]
          },
          "metadata": {
            "tags": []
          },
          "execution_count": 289
        }
      ]
    },
    {
      "cell_type": "markdown",
      "metadata": {
        "id": "2VOol2JfCQtJ",
        "colab_type": "text"
      },
      "source": [
        "##  Use cvxpy to solve the problem"
      ]
    },
    {
      "cell_type": "code",
      "metadata": {
        "id": "IxPvyNJiiyht",
        "colab_type": "code",
        "colab": {}
      },
      "source": [
        "import cvxpy as cp\n",
        "import cvxopt as cvxopt"
      ],
      "execution_count": 0,
      "outputs": []
    },
    {
      "cell_type": "code",
      "metadata": {
        "id": "nOn1JniJ6rlj",
        "colab_type": "code",
        "outputId": "ced70d86-974a-4956-ac02-bf3efccfa5e3",
        "colab": {
          "base_uri": "https://localhost:8080/",
          "height": 538
        }
      },
      "source": [
        "# Set regularization parameter.\n",
        "vlambda = 50\n",
        "\n",
        "# Solve l1 trend filtering problem.\n",
        "x = cp.Variable(shape=n)\n",
        "obj = cp.Minimize(0.5 * cp.sum_squares(y - x)\n",
        "                  + vlambda * cp.norm(D*x, 1) )\n",
        "prob = cp.Problem(obj)\n",
        "\n",
        "# ECOS and SCS solvers fail to converge before\n",
        "# the iteration limit. Use CVXOPT instead.\n",
        "prob.solve(solver=cp.CVXOPT, verbose=True)\n",
        "print('Solver status: {}'.format(prob.status))\n",
        "\n",
        "# Check for error.\n",
        "if prob.status != cp.OPTIMAL:\n",
        "    raise Exception(\"Solver did not converge!\")\n",
        "\n",
        "print(\"optimal objective value: {}\".format(obj.value))"
      ],
      "execution_count": 255,
      "outputs": [
        {
          "output_type": "stream",
          "text": [
            "     pcost       dcost       gap    pres   dres   k/t\n",
            " 0:  0.0000e+00 -1.0000e+00  2e+06  1e-01  4e-02  1e+00\n",
            " 1:  2.2669e+02  2.4614e+02  2e+06  1e-01  4e-02  2e+01\n",
            " 2: -1.4429e+02  3.9345e+00  2e+06  1e-01  4e-02  2e+02\n",
            " 3: -6.8835e+01  7.0022e+01  1e+06  7e-02  2e-02  1e+02\n",
            " 4:  4.1348e+02  5.7010e+02  1e+06  7e-02  2e-02  2e+02\n",
            " 5: -1.2612e+02  1.1485e+02  6e+05  4e-02  1e-02  2e+02\n",
            " 6:  7.6088e+01  2.5384e+02  4e+05  3e-02  7e-03  2e+02\n",
            " 7:  9.3038e+02  1.1129e+03  4e+05  3e-02  7e-03  2e+02\n",
            " 8:  8.0347e+02  8.9064e+02  2e+05  1e-02  3e-03  9e+01\n",
            " 9:  1.8726e+03  1.9144e+03  7e+04  5e-03  1e-03  4e+01\n",
            "10:  2.2036e+03  2.2272e+03  4e+04  3e-03  7e-04  2e+01\n",
            "11:  2.7131e+03  2.7371e+03  4e+04  3e-03  7e-04  2e+01\n",
            "12:  2.7184e+03  2.7314e+03  2e+04  1e-03  4e-04  1e+01\n",
            "13:  3.3731e+03  3.3775e+03  7e+03  5e-04  1e-04  4e+00\n",
            "14:  3.7551e+03  3.7564e+03  2e+03  1e-04  4e-05  1e+00\n",
            "15:  3.8911e+03  3.8915e+03  8e+02  5e-05  1e-05  5e-01\n",
            "16:  3.9436e+03  3.9439e+03  4e+02  3e-05  8e-06  3e-01\n",
            "17:  3.9546e+03  3.9547e+03  2e+02  1e-05  4e-06  1e-01\n",
            "18:  3.9731e+03  3.9732e+03  1e+02  6e-06  2e-06  6e-02\n",
            "19:  3.9795e+03  3.9795e+03  2e+01  1e-06  4e-07  1e-02\n",
            "20:  3.9798e+03  3.9798e+03  2e+01  1e-06  3e-07  1e-02\n",
            "21:  3.9809e+03  3.9809e+03  3e+00  2e-07  5e-08  2e-03\n",
            "22:  3.9811e+03  3.9811e+03  3e-01  2e-08  6e-09  2e-04\n",
            "23:  3.9811e+03  3.9811e+03  3e-02  2e-09  5e-10  2e-05\n",
            "24:  3.9811e+03  3.9811e+03  5e-03  3e-10  1e-10  3e-06\n",
            "25:  3.9811e+03  3.9811e+03  1e-03  7e-11  5e-10  7e-07\n",
            "Optimal solution found.\n",
            "Solver status: optimal\n",
            "optimal objective value: 3981.06971537389\n"
          ],
          "name": "stdout"
        }
      ]
    },
    {
      "cell_type": "markdown",
      "metadata": {
        "id": "qpiLS_I-6rlu",
        "colab_type": "text"
      },
      "source": [
        "## Results plot"
      ]
    },
    {
      "cell_type": "code",
      "metadata": {
        "id": "z1hjyyM6GS0v",
        "colab_type": "code",
        "outputId": "cf07ab80-2a86-4538-dcc0-487f3a5f8e1f",
        "colab": {
          "base_uri": "https://localhost:8080/",
          "height": 388
        }
      },
      "source": [
        "# Plot estimated trend with original signal.\n",
        "fig,ax = plt.subplots(figsize=(15, 6))\n",
        "ax.plot(data.index, y, 'g-', linewidth=1.0)\n",
        "ax.plot(data.index, np.array(x), 'b-', linewidth=2.0)\n",
        "ax.set_xlabel('date')\n",
        "ax.set_ylabel('log price')\n",
        "ax.grid()"
      ],
      "execution_count": 303,
      "outputs": [
        {
          "output_type": "display_data",
          "data": {
            "image/png": "[encoded data removed]",
            "text/plain": [
              "<Figure size 1080x432 with 1 Axes>"
            ]
          },
          "metadata": {
            "tags": []
          }
        }
      ]
    },
    {
      "cell_type": "code",
      "metadata": {
        "id": "-BQ4gVk0umcD",
        "colab_type": "code",
        "colab": {}
      },
      "source": [
        ""
      ],
      "execution_count": 0,
      "outputs": []
    }
  ]
}