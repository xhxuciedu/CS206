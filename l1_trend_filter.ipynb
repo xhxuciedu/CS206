{
  "nbformat": 4,
  "nbformat_minor": 0,
  "metadata": {
    "kernelspec": {
      "display_name": "Python 3",
      "language": "python",
      "name": "python3"
    },
    "language_info": {
      "codemirror_mode": {
        "name": "ipython",
        "version": 3
      },
      "file_extension": ".py",
      "mimetype": "text/x-python",
      "name": "python",
      "nbconvert_exporter": "python",
      "pygments_lexer": "ipython3",
      "version": "3.6.6"
    },
    "colab": {
      "name": "l1_trend_filter.ipynb",
      "provenance": [],
      "include_colab_link": true
    }
  },
  "cells": [
    {
      "cell_type": "markdown",
      "metadata": {
        "id": "view-in-github",
        "colab_type": "text"
      },
      "source": [
        "<a href=\"https://colab.research.google.com/github/xhxuciedu/CS206/blob/master/l1_trend_filter.ipynb\" target=\"_parent\"><img src=\"https://colab.research.google.com/assets/colab-badge.svg\" alt=\"Open In Colab\"/></a>"
      ]
    },
    {
      "cell_type": "markdown",
      "metadata": {
        "id": "QXeYLYsP6rle",
        "colab_type": "text"
      },
      "source": [
        "# $\\ell_1$ trend filtering\n",
        "\n",
        "A derivative work by Judson Wilson, 5/28/2014.<br>\n",
        "Adapted from the CVX example of the same name, by Kwangmoo Koh, 12/10/2007\n",
        "\n",
        "Topic Reference:\n",
        "\n",
        "* S.-J. Kim, K. Koh, S. Boyd, and D. Gorinevsky, ``l_1 Trend Filtering''<br>\n",
        "http://stanford.edu/~boyd/papers/l1_trend_filter.html\n",
        "\n",
        "## Introduction\n",
        "\n",
        "The problem of estimating underlying trends in time series data arises in a variety of disciplines. The $\\ell_1$ trend filtering method produces trend estimates $x$ that are piecewise linear from the time series $y$.\n",
        "\n",
        "The $\\ell_1$ trend estimation problem can be formulated as\n",
        "    \\begin{array}{ll}\n",
        "    \\mbox{minimize}   &  (1/2)||y-x||_2^2 + \\lambda ||Dx||_1,\n",
        "    \\end{array}\n",
        "with variable $x$ , and problem data $y$ and $\\lambda$, with $\\lambda >0$.\n",
        "$D$ is the second difference matrix, with rows \n",
        "    $$\\begin{bmatrix}0 & \\cdots & 0 & -1 & 2 & -1 & 0 & \\cdots & 0 \\end{bmatrix}.$$\n",
        "CVXPY is not optimized for the $\\ell_1$ trend filtering problem.\n",
        "For large problems, use l1_tf (http://www.stanford.edu/~boyd/l1_tf/).\n",
        "\n",
        "## Formulate and solve problem"
      ]
    },
    {
      "cell_type": "code",
      "metadata": {
        "id": "5Sy61jEo6rlx",
        "colab_type": "code",
        "colab": {}
      },
      "source": [
        "import matplotlib.pyplot as plt\n",
        "# # Show plots inline in ipython.\n",
        "# %matplotlib inline\n",
        "\n",
        "# # Plot properties.\n",
        "# plt.rc('text', usetex=True)\n",
        "# plt.rc('font', family='serif')\n",
        "# font = {'weight' : 'normal',\n",
        "#         'size'   : 16}\n",
        "# plt.rc('font', **font)"
      ],
      "execution_count": 0,
      "outputs": []
    },
    {
      "cell_type": "code",
      "metadata": {
        "id": "N3YLFcWqB_1G",
        "colab_type": "code",
        "colab": {}
      },
      "source": [
        "import numpy as np\n",
        "import cvxpy as cp\n",
        "import scipy as scipy\n",
        "import cvxopt as cvxopt"
      ],
      "execution_count": 0,
      "outputs": []
    },
    {
      "cell_type": "code",
      "metadata": {
        "id": "8rntT-wf_xYw",
        "colab_type": "code",
        "colab": {}
      },
      "source": [
        "import pandas as pd"
      ],
      "execution_count": 0,
      "outputs": []
    },
    {
      "cell_type": "code",
      "metadata": {
        "id": "fsGilyrE7EPE",
        "colab_type": "code",
        "outputId": "b08cda81-751d-4942-d604-6f93edbd898d",
        "colab": {
          "base_uri": "https://localhost:8080/",
          "height": 326
        }
      },
      "source": [
        "!wget \"https://drive.google.com/uc?export=download&id=1fAFU6DMI8Xt-nF0YcAq1XPc0Hs3p88Gf\" -O 'snp500.csv'"
      ],
      "execution_count": 0,
      "outputs": [
        {
          "output_type": "stream",
          "text": [
            "--2020-03-06 23:23:09--  https://drive.google.com/uc?export=download&id=1fAFU6DMI8Xt-nF0YcAq1XPc0Hs3p88Gf\n",
            "Resolving drive.google.com (drive.google.com)... 172.217.204.138, 172.217.204.101, 172.217.204.100, ...\n",
            "Connecting to drive.google.com (drive.google.com)|172.217.204.138|:443... connected.\n",
            "HTTP request sent, awaiting response... 302 Moved Temporarily\n",
            "Location: https://doc-04-5c-docs.googleusercontent.com/docs/securesc/ha0ro937gcuc7l7deffksulhg5h7mbp1/itan2ib58sgfrm34rnf4ljfna5i1khjd/1583536950000/11480760788648560535/*/1fAFU6DMI8Xt-nF0YcAq1XPc0Hs3p88Gf?e=download [following]\n",
            "Warning: wildcards not supported in HTTP.\n",
            "--2020-03-06 23:23:09--  https://doc-04-5c-docs.googleusercontent.com/docs/securesc/ha0ro937gcuc7l7deffksulhg5h7mbp1/itan2ib58sgfrm34rnf4ljfna5i1khjd/1583536950000/11480760788648560535/*/1fAFU6DMI8Xt-nF0YcAq1XPc0Hs3p88Gf?e=download\n",
            "Resolving doc-04-5c-docs.googleusercontent.com (doc-04-5c-docs.googleusercontent.com)... 173.194.216.132, 2607:f8b0:400c:c12::84\n",
            "Connecting to doc-04-5c-docs.googleusercontent.com (doc-04-5c-docs.googleusercontent.com)|173.194.216.132|:443... connected.\n",
            "HTTP request sent, awaiting response... 200 OK\n",
            "Length: 111805 (109K) [text/csv]\n",
            "Saving to: ‘snp500.csv’\n",
            "\n",
            "\rsnp500.csv            0%[                    ]       0  --.-KB/s               \rsnp500.csv          100%[===================>] 109.18K  --.-KB/s    in 0.001s  \n",
            "\n",
            "2020-03-06 23:23:09 (124 MB/s) - ‘snp500.csv’ saved [111805/111805]\n",
            "\n"
          ],
          "name": "stdout"
        }
      ]
    },
    {
      "cell_type": "code",
      "metadata": {
        "id": "woCbJxH68NsL",
        "colab_type": "code",
        "outputId": "922557a9-ea83-4a49-fa46-1809cb59567c",
        "colab": {
          "base_uri": "https://localhost:8080/",
          "height": 119
        }
      },
      "source": [
        "!ls -l"
      ],
      "execution_count": 0,
      "outputs": [
        {
          "output_type": "stream",
          "text": [
            "total 408\n",
            "drwxr-xr-x 1 root root   4096 Mar  3 18:11  sample_data\n",
            "-rw-r--r-- 1 root root 111805 Mar  6 23:23  snp500.csv\n",
            "-rw-r--r-- 1 root root 111805 Mar  6 22:34 'uc?export=download&id=1fAFU6DMI8Xt-nF0YcAq1XPc0Hs3p88Gf'\n",
            "-rw-r--r-- 1 root root 111805 Mar  6 22:36 'uc?export=download&id=1fAFU6DMI8Xt-nF0YcAq1XPc0Hs3p88Gf.1'\n",
            "-rw-r--r-- 1 root root  69079 Mar  6 22:21 'view?usp=sharing'\n"
          ],
          "name": "stdout"
        }
      ]
    },
    {
      "cell_type": "code",
      "metadata": {
        "id": "uocOIStY_397",
        "colab_type": "code",
        "colab": {}
      },
      "source": [
        "SPY = pd.read_csv('snp500.csv', header=None, names=['date','price'], parse_dates=['date'])"
      ],
      "execution_count": 0,
      "outputs": []
    },
    {
      "cell_type": "code",
      "metadata": {
        "id": "w2PrDljJ_4BP",
        "colab_type": "code",
        "colab": {}
      },
      "source": [
        "SPY = SPY.set_index('date')"
      ],
      "execution_count": 0,
      "outputs": []
    },
    {
      "cell_type": "code",
      "metadata": {
        "id": "i4S6c1y9BMvN",
        "colab_type": "code",
        "outputId": "52f3111b-0bc4-4c5b-b618-c307aa3668ae",
        "colab": {
          "base_uri": "https://localhost:8080/",
          "height": 289
        }
      },
      "source": [
        "SPY.plot()"
      ],
      "execution_count": 0,
      "outputs": [
        {
          "output_type": "execute_result",
          "data": {
            "text/plain": [
              "<matplotlib.axes._subplots.AxesSubplot at 0x7f39f6010860>"
            ]
          },
          "metadata": {
            "tags": []
          },
          "execution_count": 7
        },
        {
          "output_type": "display_data",
          "data": {
            "image/png": "[encoded data removed]",
            "text/plain": [
              "<Figure size 432x288 with 1 Axes>"
            ]
          },
          "metadata": {
            "tags": []
          }
        }
      ]
    },
    {
      "cell_type": "code",
      "metadata": {
        "id": "fHw7KK-HBMsJ",
        "colab_type": "code",
        "colab": {}
      },
      "source": [
        "data = SPY['price']['2017':]"
      ],
      "execution_count": 0,
      "outputs": []
    },
    {
      "cell_type": "code",
      "metadata": {
        "id": "2d7cOD6_B_6T",
        "colab_type": "code",
        "colab": {}
      },
      "source": [
        "# Load time series data: S&P 500 price log.\n",
        "#y = np.loadtxt(open('data/snp500.txt', 'rb'), delimiter=\",\", skiprows=1)\n",
        "y = data.values\n",
        "n = y.size\n",
        "\n",
        "# Form second difference matrix.\n",
        "e = np.ones((1, n))\n",
        "D = scipy.sparse.spdiags(np.vstack((e, -2*e, e)), range(3), n-2, n)"
      ],
      "execution_count": 0,
      "outputs": []
    },
    {
      "cell_type": "code",
      "metadata": {
        "id": "2VOol2JfCQtJ",
        "colab_type": "code",
        "outputId": "c5078320-c048-4690-a98e-039a2b2c427e",
        "colab": {
          "base_uri": "https://localhost:8080/",
          "height": 34
        }
      },
      "source": [
        "len(y)"
      ],
      "execution_count": 0,
      "outputs": [
        {
          "output_type": "execute_result",
          "data": {
            "text/plain": [
              "799"
            ]
          },
          "metadata": {
            "tags": []
          },
          "execution_count": 30
        }
      ]
    },
    {
      "cell_type": "code",
      "metadata": {
        "id": "zYFR3UKFC31g",
        "colab_type": "code",
        "colab": {}
      },
      "source": [
        ""
      ],
      "execution_count": 0,
      "outputs": []
    },
    {
      "cell_type": "code",
      "metadata": {
        "id": "nOn1JniJ6rlj",
        "colab_type": "code",
        "outputId": "09712515-a486-4286-efee-eb35a9818687",
        "colab": {
          "base_uri": "https://localhost:8080/",
          "height": 527
        }
      },
      "source": [
        "# Set regularization parameter.\n",
        "vlambda = 50\n",
        "\n",
        "# Solve l1 trend filtering problem.\n",
        "x = cp.Variable(shape=n)\n",
        "obj = cp.Minimize(0.5 * cp.sum_squares(y - x)\n",
        "                  + vlambda * cp.norm(D*x, 1) )\n",
        "prob = cp.Problem(obj)\n",
        "\n",
        "# ECOS and SCS solvers fail to converge before\n",
        "# the iteration limit. Use CVXOPT instead.\n",
        "prob.solve(solver=cp.CVXOPT, verbose=True)\n",
        "print('Solver status: {}'.format(prob.status))\n",
        "\n",
        "# Check for error.\n",
        "if prob.status != cp.OPTIMAL:\n",
        "    raise Exception(\"Solver did not converge!\")\n",
        "\n",
        "print(\"optimal objective value: {}\".format(obj.value))"
      ],
      "execution_count": 0,
      "outputs": [
        {
          "output_type": "stream",
          "text": [
            "     pcost       dcost       gap    pres   dres   k/t\n",
            " 0:  0.0000e+00 -1.0000e+00  2e+06  1e-01  4e-02  1e+00\n",
            " 1:  2.2669e+02  2.4614e+02  2e+06  1e-01  4e-02  2e+01\n",
            " 2: -1.4429e+02  3.9345e+00  2e+06  1e-01  4e-02  2e+02\n",
            " 3: -6.8835e+01  7.0022e+01  1e+06  7e-02  2e-02  1e+02\n",
            " 4:  4.1348e+02  5.7010e+02  1e+06  7e-02  2e-02  2e+02\n",
            " 5: -1.2612e+02  1.1485e+02  6e+05  4e-02  1e-02  2e+02\n",
            " 6:  7.6088e+01  2.5384e+02  4e+05  3e-02  7e-03  2e+02\n",
            " 7:  9.3038e+02  1.1129e+03  4e+05  3e-02  7e-03  2e+02\n",
            " 8:  8.0347e+02  8.9064e+02  2e+05  1e-02  3e-03  9e+01\n",
            " 9:  1.8726e+03  1.9144e+03  7e+04  5e-03  1e-03  4e+01\n",
            "10:  2.2036e+03  2.2272e+03  4e+04  3e-03  7e-04  2e+01\n",
            "11:  2.7131e+03  2.7371e+03  4e+04  3e-03  7e-04  2e+01\n",
            "12:  2.7184e+03  2.7314e+03  2e+04  1e-03  4e-04  1e+01\n",
            "13:  3.3731e+03  3.3775e+03  7e+03  5e-04  1e-04  4e+00\n",
            "14:  3.7551e+03  3.7564e+03  2e+03  1e-04  4e-05  1e+00\n",
            "15:  3.8911e+03  3.8915e+03  8e+02  5e-05  1e-05  5e-01\n",
            "16:  3.9436e+03  3.9439e+03  4e+02  3e-05  8e-06  3e-01\n",
            "17:  3.9546e+03  3.9547e+03  2e+02  1e-05  4e-06  1e-01\n",
            "18:  3.9731e+03  3.9732e+03  1e+02  6e-06  2e-06  6e-02\n",
            "19:  3.9795e+03  3.9795e+03  2e+01  1e-06  4e-07  1e-02\n",
            "20:  3.9798e+03  3.9798e+03  2e+01  1e-06  3e-07  1e-02\n",
            "21:  3.9809e+03  3.9809e+03  3e+00  2e-07  5e-08  2e-03\n",
            "22:  3.9811e+03  3.9811e+03  3e-01  2e-08  6e-09  2e-04\n",
            "23:  3.9811e+03  3.9811e+03  3e-02  2e-09  5e-10  2e-05\n",
            "24:  3.9811e+03  3.9811e+03  5e-03  3e-10  1e-10  3e-06\n",
            "25:  3.9811e+03  3.9811e+03  1e-03  7e-11  5e-10  7e-07\n",
            "Optimal solution found.\n",
            "Solver status: optimal\n",
            "optimal objective value: 3981.06971537389\n"
          ],
          "name": "stdout"
        }
      ]
    },
    {
      "cell_type": "markdown",
      "metadata": {
        "id": "qpiLS_I-6rlu",
        "colab_type": "text"
      },
      "source": [
        "## Results plot"
      ]
    },
    {
      "cell_type": "code",
      "metadata": {
        "id": "z1hjyyM6GS0v",
        "colab_type": "code",
        "outputId": "a720d977-be47-4ad2-b727-e574180b1ac2",
        "colab": {
          "base_uri": "https://localhost:8080/",
          "height": 388
        }
      },
      "source": [
        "# Plot estimated trend with original signal.\n",
        "fig,ax = plt.subplots(figsize=(15, 6))\n",
        "ax.plot(data.index, y, 'g-', linewidth=1.0)\n",
        "ax.plot(data.index, np.array(x.value), 'b-', linewidth=2.0)\n",
        "ax.set_xlabel('date')\n",
        "ax.set_ylabel('log price')\n",
        "ax.grid()"
      ],
      "execution_count": 0,
      "outputs": [
        {
          "output_type": "display_data",
          "data": {
            "image/png": "[encoded data removed]",
            "text/plain": [
              "<Figure size 1080x432 with 1 Axes>"
            ]
          },
          "metadata": {
            "tags": []
          }
        }
      ]
    },
    {
      "cell_type": "code",
      "metadata": {
        "id": "Q50fZuQuGZ9A",
        "colab_type": "code",
        "colab": {}
      },
      "source": [
        ""
      ],
      "execution_count": 0,
      "outputs": []
    }
  ]
}