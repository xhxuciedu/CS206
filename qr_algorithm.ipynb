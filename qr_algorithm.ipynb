{
  "nbformat": 4,
  "nbformat_minor": 0,
  "metadata": {
    "colab": {
      "name": "qr_algorithm.ipynb",
      "provenance": [],
      "authorship_tag": "ABX9TyMardEmU3Fw1L/Vd6E7axBw",
      "include_colab_link": true
    },
    "kernelspec": {
      "name": "python3",
      "display_name": "Python 3"
    }
  },
  "cells": [
    {
      "cell_type": "markdown",
      "metadata": {
        "id": "view-in-github",
        "colab_type": "text"
      },
      "source": [
        "<a href=\"https://colab.research.google.com/github/xhxuciedu/CS206/blob/master/qr_algorithm.ipynb\" target=\"_parent\"><img src=\"https://colab.research.google.com/assets/colab-badge.svg\" alt=\"Open In Colab\"/></a>"
      ]
    },
    {
      "cell_type": "code",
      "metadata": {
        "id": "gAyQwYuvuqr1"
      },
      "source": [
        "import numpy as np\n",
        "from scipy import linalg"
      ],
      "execution_count": 37,
      "outputs": []
    },
    {
      "cell_type": "code",
      "metadata": {
        "id": "JyeCMo3GObDb"
      },
      "source": [
        "import matplotlib.pyplot as plt\n",
        "from pprint import pprint\n",
        "#np.set_printoptions(precision=3, suppress=False)\n",
        "np.set_printoptions(precision=3, suppress=True)\n",
        "#np.set_printoptions(formatter={\"float_kind\": lambda x: \"%g\" % x})"
      ],
      "execution_count": 38,
      "outputs": []
    },
    {
      "cell_type": "code",
      "source": [
        "np.random.seed(1)"
      ],
      "metadata": {
        "id": "HTv0zftmrkVF"
      },
      "execution_count": 39,
      "outputs": []
    },
    {
      "cell_type": "code",
      "metadata": {
        "id": "Ur9QWSRQuuyo"
      },
      "source": [
        "A = np.random.randn(5,5)"
      ],
      "execution_count": 40,
      "outputs": []
    },
    {
      "cell_type": "code",
      "metadata": {
        "id": "thUq9hPauzA4"
      },
      "source": [
        "# make A symmetric\n",
        "A = (A+A.T)/2"
      ],
      "execution_count": 41,
      "outputs": []
    },
    {
      "cell_type": "code",
      "metadata": {
        "id": "2ywgu2Lzu-z4",
        "colab": {
          "base_uri": "https://localhost:8080/"
        },
        "outputId": "5d4f0ce0-c34c-4e41-c2f7-4d1e28689472"
      },
      "source": [
        "A"
      ],
      "execution_count": 42,
      "outputs": [
        {
          "output_type": "execute_result",
          "data": {
            "text/plain": [
              "array([[ 1.624, -1.457,  0.467, -1.086, -0.118],\n",
              "       [-1.457,  1.745, -1.411,  0.073,  0.448],\n",
              "       [ 0.467, -1.411, -0.322, -0.631,  1.018],\n",
              "       [-1.086,  0.073, -0.631,  0.042,  0.543],\n",
              "       [-0.118,  0.448,  1.018,  0.543,  0.901]])"
            ]
          },
          "metadata": {},
          "execution_count": 42
        }
      ]
    },
    {
      "cell_type": "markdown",
      "metadata": {
        "id": "7qplZdfLvVGP"
      },
      "source": [
        "## Calculate Hessenberg form of A"
      ]
    },
    {
      "cell_type": "code",
      "metadata": {
        "id": "g9n7qN4WvEdd"
      },
      "source": [
        "from scipy.linalg import hessenberg"
      ],
      "execution_count": 43,
      "outputs": []
    },
    {
      "cell_type": "code",
      "metadata": {
        "colab": {
          "base_uri": "https://localhost:8080/"
        },
        "id": "yHRvg4qKO2Ra",
        "outputId": "0c4d35ae-dfa9-4241-a37a-7297b25c8644"
      },
      "source": [
        "A = np.random.randn(5,5)\n",
        "H, Q = hessenberg(A, calc_q=True)\n",
        "print(H)"
      ],
      "execution_count": 44,
      "outputs": [
        {
          "output_type": "stream",
          "name": "stdout",
          "text": [
            "[[-0.684 -0.198 -0.505  0.973  0.06 ]\n",
            " [ 0.96  -0.313  0.234  0.704  0.271]\n",
            " [ 0.     1.08   0.311  2.103  0.426]\n",
            " [ 0.     0.     0.965  0.674 -2.302]\n",
            " [ 0.     0.     0.     0.11   1.475]]\n"
          ]
        }
      ]
    },
    {
      "cell_type": "code",
      "metadata": {
        "id": "TXbT6KYZvQSy",
        "colab": {
          "base_uri": "https://localhost:8080/"
        },
        "outputId": "853981b5-8d93-4d88-8e3d-6a51694cb723"
      },
      "source": [
        "A = np.random.randn(5,5)\n",
        "H, Q = hessenberg(A+A.T, calc_q=True)\n",
        "print(H)"
      ],
      "execution_count": 45,
      "outputs": [
        {
          "output_type": "stream",
          "name": "stdout",
          "text": [
            "[[ 0.6   -2.562  0.    -0.     0.   ]\n",
            " [-2.562  1.383 -2.28   0.     0.   ]\n",
            " [ 0.    -2.28   3.5    2.019 -0.   ]\n",
            " [ 0.     0.     2.019  2.206 -1.346]\n",
            " [ 0.     0.     0.    -1.346  0.617]]\n"
          ]
        }
      ]
    },
    {
      "cell_type": "code",
      "metadata": {
        "id": "ySQDt__HOzEs"
      },
      "source": [],
      "execution_count": 45,
      "outputs": []
    },
    {
      "cell_type": "markdown",
      "metadata": {
        "id": "d2zi20u7vRWR"
      },
      "source": [
        "## Run QR algorithm"
      ]
    },
    {
      "cell_type": "code",
      "metadata": {
        "id": "lbH0bFAvx1Xp"
      },
      "source": [
        "# QR algorithm\n",
        "A = H\n",
        "for i in range(50):\n",
        "  Q,R = linalg.qr(A)\n",
        "  A = R.dot(Q)"
      ],
      "execution_count": 46,
      "outputs": []
    },
    {
      "cell_type": "code",
      "metadata": {
        "id": "N82y8LcXx1im",
        "colab": {
          "base_uri": "https://localhost:8080/"
        },
        "outputId": "30f73ae7-ce58-4dd3-dcab-328ae14cecbd"
      },
      "source": [
        "print(A)"
      ],
      "execution_count": 47,
      "outputs": [
        {
          "output_type": "stream",
          "name": "stdout",
          "text": [
            "[[ 6.111  0.     0.    -0.    -0.   ]\n",
            " [ 0.     3.298 -0.     0.     0.   ]\n",
            " [ 0.    -0.    -2.149 -0.    -0.   ]\n",
            " [ 0.     0.    -0.     1.444  0.   ]\n",
            " [ 0.     0.     0.    -0.    -0.398]]\n"
          ]
        }
      ]
    },
    {
      "cell_type": "code",
      "metadata": {
        "id": "_PvS2pRvyHqD"
      },
      "source": [
        "w, v = np.linalg.eig(H)"
      ],
      "execution_count": 48,
      "outputs": []
    },
    {
      "cell_type": "code",
      "metadata": {
        "id": "Q6v-ANXHyVsm",
        "colab": {
          "base_uri": "https://localhost:8080/"
        },
        "outputId": "c1e11f71-357c-4333-d191-ce758fcedc6d"
      },
      "source": [
        "print(w)"
      ],
      "execution_count": 49,
      "outputs": [
        {
          "output_type": "stream",
          "name": "stdout",
          "text": [
            "[ 6.111  3.298 -2.149  1.444 -0.398]\n"
          ]
        }
      ]
    },
    {
      "cell_type": "code",
      "metadata": {
        "id": "yn7K7OBwSI0U",
        "colab": {
          "base_uri": "https://localhost:8080/"
        },
        "outputId": "55b97939-6f9a-4b14-9c2c-8d342fd6185f"
      },
      "source": [
        "lambda_max = w[np.argmax(np.abs(w))]\n",
        "print('Largest eigenvalue: ', lambda_max)"
      ],
      "execution_count": 50,
      "outputs": [
        {
          "output_type": "stream",
          "name": "stdout",
          "text": [
            "Largest eigenvalue:  6.110990562883842\n"
          ]
        }
      ]
    },
    {
      "cell_type": "code",
      "metadata": {
        "colab": {
          "base_uri": "https://localhost:8080/"
        },
        "id": "m8tYp9JoPmjH",
        "outputId": "8bc11ac5-445e-4b27-ff34-36ec4344558d"
      },
      "source": [
        "print(v)"
      ],
      "execution_count": 51,
      "outputs": [
        {
          "output_type": "stream",
          "name": "stdout",
          "text": [
            "[[-0.221 -0.509 -0.627 -0.473  0.276]\n",
            " [ 0.475  0.535 -0.672  0.156  0.108]\n",
            " [-0.736  0.122 -0.337  0.527 -0.226]\n",
            " [-0.416  0.592  0.184 -0.361  0.559]\n",
            " [ 0.102 -0.298  0.09   0.587  0.741]]\n"
          ]
        }
      ]
    },
    {
      "cell_type": "code",
      "metadata": {
        "colab": {
          "base_uri": "https://localhost:8080/"
        },
        "id": "vB8jkQsgPne4",
        "outputId": "495596a1-e984-4d33-b76e-869e8c954570"
      },
      "source": [
        "v@v.T"
      ],
      "execution_count": 52,
      "outputs": [
        {
          "output_type": "execute_result",
          "data": {
            "text/plain": [
              "array([[ 1., -0., -0.,  0.,  0.],\n",
              "       [-0.,  1.,  0., -0.,  0.],\n",
              "       [-0.,  0.,  1.,  0.,  0.],\n",
              "       [ 0., -0.,  0.,  1.,  0.],\n",
              "       [ 0.,  0.,  0.,  0.,  1.]])"
            ]
          },
          "metadata": {},
          "execution_count": 52
        }
      ]
    },
    {
      "cell_type": "markdown",
      "metadata": {
        "id": "bX3jNAojUVMy"
      },
      "source": [
        "## Check convergene rate"
      ]
    },
    {
      "cell_type": "code",
      "metadata": {
        "id": "DRIO6EPNaHqr"
      },
      "source": [
        "w,v=np.linalg.eig(A)"
      ],
      "execution_count": 53,
      "outputs": []
    },
    {
      "cell_type": "code",
      "metadata": {
        "id": "4HbSMpSgZjRH",
        "outputId": "2e1a5aaf-98a4-4307-e413-2c7cccdef9ae",
        "colab": {
          "base_uri": "https://localhost:8080/"
        }
      },
      "source": [
        "np.random.seed(2)\n",
        "A = np.random.randn(10,10)/np.sqrt(10)\n",
        "A = A+A.T\n",
        "H, Q = hessenberg(A, calc_q=True)\n",
        "print(H)"
      ],
      "execution_count": 75,
      "outputs": [
        {
          "output_type": "stream",
          "name": "stdout",
          "text": [
            "[[-0.264 -1.453 -0.     0.    -0.    -0.     0.     0.     0.     0.   ]\n",
            " [-1.453 -0.527 -1.258 -0.     0.     0.    -0.     0.     0.    -0.   ]\n",
            " [ 0.    -1.258 -0.118 -1.675  0.     0.    -0.     0.    -0.     0.   ]\n",
            " [ 0.     0.    -1.675 -0.639  0.818  0.    -0.     0.    -0.    -0.   ]\n",
            " [ 0.     0.     0.     0.818  1.171  0.836  0.    -0.    -0.     0.   ]\n",
            " [ 0.     0.     0.     0.     0.836  1.209 -0.905 -0.     0.    -0.   ]\n",
            " [ 0.     0.     0.     0.     0.    -0.905 -0.475  1.356  0.    -0.   ]\n",
            " [ 0.     0.     0.     0.     0.     0.     1.356 -0.06  -0.46  -0.   ]\n",
            " [ 0.     0.     0.     0.     0.     0.     0.    -0.46  -0.126  1.08 ]\n",
            " [ 0.     0.     0.     0.     0.     0.     0.     0.     1.08   0.725]]\n"
          ]
        }
      ]
    },
    {
      "cell_type": "markdown",
      "metadata": {
        "id": "8ib-Ud2qZNgW"
      },
      "source": [
        "Pure QR Algorithm \n",
        "\n",
        "Linear convergence"
      ]
    },
    {
      "cell_type": "code",
      "metadata": {
        "id": "0KSDa6c2PpbV"
      },
      "source": [
        "# Pure QR algorithm\n",
        "A = H\n",
        "loss = []\n",
        "for i in range(1000):\n",
        "  Q,R = linalg.qr(A)\n",
        "  A = R.dot(Q)\n",
        "  diff = np.linalg.norm(A-np.diag(np.diag(A)),ord='fro')\n",
        "  loss.append(diff)"
      ],
      "execution_count": 78,
      "outputs": []
    },
    {
      "cell_type": "code",
      "metadata": {
        "id": "G5r6OKS3QU92",
        "colab": {
          "base_uri": "https://localhost:8080/",
          "height": 350
        },
        "outputId": "4ab29f66-f154-4be9-e6a0-d765c8a7a195"
      },
      "source": [
        "fig, ax = plt.subplots(figsize=(10,5))\n",
        "ax.plot(np.array(loss))\n",
        "ax.set_xlabel('# iterations')\n",
        "ax.set_ylabel('Error')\n",
        "ax.set_yscale('log')\n",
        "ax.set_title('Pure QR Algorithm')\n",
        "ax.grid()"
      ],
      "execution_count": 79,
      "outputs": [
        {
          "output_type": "display_data",
          "data": {
            "text/plain": [
              "<Figure size 720x360 with 1 Axes>"
            ],
            "image/png": "[encoded data removed]"
          },
          "metadata": {
            "needs_background": "light"
          }
        }
      ]
    },
    {
      "cell_type": "code",
      "metadata": {
        "id": "ZBJuj-kcW-3m",
        "outputId": "9e64be22-8efd-494a-a121-8ed445be62ef",
        "colab": {
          "base_uri": "https://localhost:8080/"
        }
      },
      "source": [
        "print('Eigenvalues: ', np.diag(A))"
      ],
      "execution_count": 72,
      "outputs": [
        {
          "output_type": "stream",
          "name": "stdout",
          "text": [
            "Eigenvalues:  [-2.74   2.435  1.944 -1.877 -1.567  1.543  1.175 -0.867  0.653  0.197]\n"
          ]
        }
      ]
    },
    {
      "cell_type": "code",
      "source": [
        "print(A)"
      ],
      "metadata": {
        "id": "j6rW3df4sTRi",
        "outputId": "67ea9b93-45aa-4990-9854-704b835da287",
        "colab": {
          "base_uri": "https://localhost:8080/"
        }
      },
      "execution_count": 81,
      "outputs": [
        {
          "output_type": "stream",
          "name": "stdout",
          "text": [
            "[[-2.74   0.    -0.     0.     0.     0.    -0.    -0.    -0.     0.   ]\n",
            " [-0.     2.435  0.    -0.     0.    -0.    -0.    -0.    -0.     0.   ]\n",
            " [ 0.     0.     1.944 -0.     0.    -0.     0.     0.    -0.    -0.   ]\n",
            " [ 0.     0.    -0.    -1.877 -0.    -0.    -0.    -0.    -0.    -0.   ]\n",
            " [ 0.     0.     0.    -0.    -1.567 -0.    -0.     0.     0.     0.   ]\n",
            " [ 0.     0.     0.     0.    -0.     1.543  0.    -0.    -0.     0.   ]\n",
            " [ 0.     0.     0.     0.     0.    -0.     1.175  0.     0.     0.   ]\n",
            " [ 0.     0.     0.     0.     0.     0.     0.    -0.867 -0.    -0.   ]\n",
            " [ 0.     0.     0.     0.     0.     0.     0.     0.     0.653  0.   ]\n",
            " [ 0.     0.     0.     0.     0.     0.     0.     0.     0.     0.197]]\n"
          ]
        }
      ]
    },
    {
      "cell_type": "markdown",
      "metadata": {
        "id": "GNsmUn4JZIsU"
      },
      "source": [
        "## Shift QR Algorithm"
      ]
    },
    {
      "cell_type": "code",
      "metadata": {
        "id": "Qe23UMDXcLtM"
      },
      "source": [
        "def wilkinson_shift(B):\n",
        "  # B is 2 x 2 matrix\n",
        "  delta = (B[0,0]-B[1,1])/2\n",
        "  mu = B[1,1] - np.sign(delta)*B[0,1]*B[0,1]/(np.abs(delta)+np.sqrt(delta*delta+B[0,1]*B[0,1]))\n",
        "  return mu"
      ],
      "execution_count": 58,
      "outputs": []
    },
    {
      "cell_type": "code",
      "metadata": {
        "id": "pHjtcSobTuPS"
      },
      "source": [
        "# Shifted QR algorithm\n",
        "A = H\n",
        "loss = []\n",
        "eps = 1e-6\n",
        "eigs = []\n",
        "for i in range(100):\n",
        "  mu = A[-1,-1]\n",
        "  #mu = wilkinson_shift(A[-2:,-2:])\n",
        "  Q,R = linalg.qr(A-mu*np.identity(A.shape[0]))\n",
        "  A = R.dot(Q) + mu*np.identity(A.shape[0])\n",
        "\n",
        "  if np.abs(A[-1,-2])<eps:  # deflate, reduce to n-1 x n-1 matrix\n",
        "    A = A[:-1,:-1]\n",
        "    eigs.append(mu)\n",
        "\n",
        "  if A.shape[0]<=1:\n",
        "    eigs.append(A[0,0])\n",
        "    break\n",
        "\n",
        "  diff = np.linalg.norm(A-np.diag(np.diag(A)),ord='fro')\n",
        "  loss.append(diff)"
      ],
      "execution_count": 82,
      "outputs": []
    },
    {
      "cell_type": "code",
      "metadata": {
        "id": "MFXg0EAaVV9c",
        "outputId": "0ab63640-343c-4d72-e5b7-2dece784fb4e",
        "colab": {
          "base_uri": "https://localhost:8080/",
          "height": 350
        }
      },
      "source": [
        "fig, ax = plt.subplots(figsize=(10,5))\n",
        "ax.plot(np.array(loss))\n",
        "ax.set_xlabel('# iterations')\n",
        "ax.set_ylabel('Error')\n",
        "ax.set_yscale('log')\n",
        "ax.set_title('Shifted QR Algorithm')\n",
        "ax.grid()"
      ],
      "execution_count": 83,
      "outputs": [
        {
          "output_type": "display_data",
          "data": {
            "text/plain": [
              "<Figure size 720x360 with 1 Axes>"
            ],
            "image/png": "[encoded data removed]"
          },
          "metadata": {
            "needs_background": "light"
          }
        }
      ]
    },
    {
      "cell_type": "code",
      "metadata": {
        "id": "t9u74Bf3VtOV",
        "outputId": "9c37040f-98eb-4161-b75b-e322546dd4a5",
        "colab": {
          "base_uri": "https://localhost:8080/"
        }
      },
      "source": [
        "print('Eigenvalues: ', np.array(eigs))"
      ],
      "execution_count": 84,
      "outputs": [
        {
          "output_type": "stream",
          "name": "stdout",
          "text": [
            "Eigenvalues:  [ 0.653  1.175  1.543  0.197  1.944 -0.867  2.435 -1.567 -1.877 -2.74 ]\n"
          ]
        }
      ]
    },
    {
      "cell_type": "code",
      "metadata": {
        "id": "yxqdRZFDe6gM"
      },
      "source": [],
      "execution_count": 61,
      "outputs": []
    }
  ]
}