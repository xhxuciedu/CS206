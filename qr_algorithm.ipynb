{
  "nbformat": 4,
  "nbformat_minor": 0,
  "metadata": {
    "colab": {
      "name": "qr_algorithm.ipynb",
      "provenance": [],
      "authorship_tag": "ABX9TyMNrhWx4rqVJN4e2/BJCqJH",
      "include_colab_link": true
    },
    "kernelspec": {
      "name": "python3",
      "display_name": "Python 3"
    }
  },
  "cells": [
    {
      "cell_type": "markdown",
      "metadata": {
        "id": "view-in-github",
        "colab_type": "text"
      },
      "source": [
        "<a href=\"https://colab.research.google.com/github/xhxuciedu/CS206/blob/master/qr_algorithm.ipynb\" target=\"_parent\"><img src=\"https://colab.research.google.com/assets/colab-badge.svg\" alt=\"Open In Colab\"/></a>"
      ]
    },
    {
      "cell_type": "code",
      "metadata": {
        "id": "gAyQwYuvuqr1"
      },
      "source": [
        "import numpy as np\n",
        "from scipy import linalg"
      ],
      "execution_count": 1,
      "outputs": []
    },
    {
      "cell_type": "code",
      "metadata": {
        "id": "JyeCMo3GObDb"
      },
      "source": [
        "import matplotlib.pyplot as plt\n",
        "from pprint import pprint\n",
        "#np.set_printoptions(precision=3, suppress=False)\n",
        "np.set_printoptions(precision=3, suppress=True)\n",
        "#np.set_printoptions(formatter={\"float_kind\": lambda x: \"%g\" % x})"
      ],
      "execution_count": 11,
      "outputs": []
    },
    {
      "cell_type": "code",
      "metadata": {
        "id": "Ur9QWSRQuuyo"
      },
      "source": [
        "A = np.random.randn(5,5)"
      ],
      "execution_count": 12,
      "outputs": []
    },
    {
      "cell_type": "code",
      "metadata": {
        "id": "thUq9hPauzA4"
      },
      "source": [
        "# make A symmetric\n",
        "A = (A+A.T)/2"
      ],
      "execution_count": 13,
      "outputs": []
    },
    {
      "cell_type": "code",
      "metadata": {
        "id": "2ywgu2Lzu-z4",
        "colab": {
          "base_uri": "https://localhost:8080/"
        },
        "outputId": "842687d8-3f07-4d51-a7e1-2646f6081bb6"
      },
      "source": [
        "A"
      ],
      "execution_count": 14,
      "outputs": [
        {
          "output_type": "execute_result",
          "data": {
            "text/plain": [
              "array([[ 0.286,  0.46 , -0.237,  0.903,  0.502],\n",
              "       [ 0.46 ,  0.667, -0.252,  0.342, -0.689],\n",
              "       [-0.237, -0.252,  0.824,  1.793,  0.374],\n",
              "       [ 0.903,  0.342,  1.793,  0.922, -0.391],\n",
              "       [ 0.502, -0.689,  0.374, -0.391,  1.975]])"
            ]
          },
          "metadata": {
            "tags": []
          },
          "execution_count": 14
        }
      ]
    },
    {
      "cell_type": "markdown",
      "metadata": {
        "id": "7qplZdfLvVGP"
      },
      "source": [
        "## Calculate Hessenberg form of A"
      ]
    },
    {
      "cell_type": "code",
      "metadata": {
        "id": "g9n7qN4WvEdd"
      },
      "source": [
        "from scipy.linalg import hessenberg"
      ],
      "execution_count": 15,
      "outputs": []
    },
    {
      "cell_type": "code",
      "metadata": {
        "colab": {
          "base_uri": "https://localhost:8080/"
        },
        "id": "yHRvg4qKO2Ra",
        "outputId": "f01066df-6123-4507-df41-43480551016c"
      },
      "source": [
        "A = np.random.randn(5,5)\n",
        "H, Q = hessenberg(A, calc_q=True)\n",
        "print(H)"
      ],
      "execution_count": 18,
      "outputs": [
        {
          "output_type": "stream",
          "text": [
            "[[ 0.735 -0.238 -0.578  0.098  0.23 ]\n",
            " [ 0.851  2.417 -0.424  0.655 -0.046]\n",
            " [ 0.     1.58   1.364 -0.658  1.726]\n",
            " [ 0.     0.    -0.101 -0.277  0.266]\n",
            " [ 0.     0.     0.    -0.038 -2.36 ]]\n"
          ],
          "name": "stdout"
        }
      ]
    },
    {
      "cell_type": "code",
      "metadata": {
        "id": "TXbT6KYZvQSy",
        "colab": {
          "base_uri": "https://localhost:8080/"
        },
        "outputId": "75dca7f2-7029-4763-d73a-d8d9dc373c42"
      },
      "source": [
        "A = np.random.randn(5,5)\n",
        "H, Q = hessenberg(A+A.T, calc_q=True)\n",
        "print(H)"
      ],
      "execution_count": 20,
      "outputs": [
        {
          "output_type": "stream",
          "text": [
            "[[ 1.872  2.192 -0.     0.    -0.   ]\n",
            " [ 2.192  0.748 -1.958 -0.     0.   ]\n",
            " [ 0.    -1.958 -3.027  1.322 -0.   ]\n",
            " [ 0.     0.     1.322 -3.186 -2.678]\n",
            " [ 0.     0.     0.    -2.678 -1.375]]\n"
          ],
          "name": "stdout"
        }
      ]
    },
    {
      "cell_type": "code",
      "metadata": {
        "id": "ySQDt__HOzEs"
      },
      "source": [
        ""
      ],
      "execution_count": 20,
      "outputs": []
    },
    {
      "cell_type": "markdown",
      "metadata": {
        "id": "d2zi20u7vRWR"
      },
      "source": [
        "## Run QR algorithm"
      ]
    },
    {
      "cell_type": "code",
      "metadata": {
        "id": "lbH0bFAvx1Xp"
      },
      "source": [
        "# QR algorithm\n",
        "A = H\n",
        "for i in range(50):\n",
        "  Q,R = linalg.qr(A)\n",
        "  A = R.dot(Q)"
      ],
      "execution_count": 31,
      "outputs": []
    },
    {
      "cell_type": "code",
      "metadata": {
        "id": "N82y8LcXx1im",
        "colab": {
          "base_uri": "https://localhost:8080/"
        },
        "outputId": "ec52f56b-609c-46a3-eebd-da4c2cc635eb"
      },
      "source": [
        "print(A)"
      ],
      "execution_count": 44,
      "outputs": [
        {
          "output_type": "stream",
          "text": [
            "[[-5.706  0.    -0.    -0.     0.   ]\n",
            " [ 0.     3.812  0.011 -0.    -0.   ]\n",
            " [ 0.     0.011 -3.552  0.    -0.   ]\n",
            " [ 0.     0.    -0.     0.765 -0.   ]\n",
            " [ 0.     0.     0.    -0.    -0.286]]\n"
          ],
          "name": "stdout"
        }
      ]
    },
    {
      "cell_type": "code",
      "metadata": {
        "id": "_PvS2pRvyHqD"
      },
      "source": [
        "w, v = np.linalg.eig(H)"
      ],
      "execution_count": 57,
      "outputs": []
    },
    {
      "cell_type": "code",
      "metadata": {
        "id": "Q6v-ANXHyVsm",
        "colab": {
          "base_uri": "https://localhost:8080/"
        },
        "outputId": "fb62cd8a-8564-463c-a045-2923268e53c3"
      },
      "source": [
        "print(w)"
      ],
      "execution_count": 58,
      "outputs": [
        {
          "output_type": "stream",
          "text": [
            "[ 3.812 -5.706 -3.552 -0.286  0.765]\n"
          ],
          "name": "stdout"
        }
      ]
    },
    {
      "cell_type": "code",
      "metadata": {
        "id": "yn7K7OBwSI0U",
        "outputId": "81cf8edb-765f-4679-f77e-f66a19fe243b",
        "colab": {
          "base_uri": "https://localhost:8080/"
        }
      },
      "source": [
        "lambda_max = w[np.argmax(np.abs(w))]\n",
        "print('Largest eigenvalue: ', lambda_max)"
      ],
      "execution_count": 66,
      "outputs": [
        {
          "output_type": "stream",
          "text": [
            "Largest eigenvalue:  -5.706404950311452\n"
          ],
          "name": "stdout"
        }
      ]
    },
    {
      "cell_type": "code",
      "metadata": {
        "colab": {
          "base_uri": "https://localhost:8080/"
        },
        "id": "m8tYp9JoPmjH",
        "outputId": "7faa9b94-598a-4775-bd13-75fde87f8e41"
      },
      "source": [
        "print(v)"
      ],
      "execution_count": 29,
      "outputs": [
        {
          "output_type": "stream",
          "text": [
            "[[ 0.734 -0.047  0.168 -0.614 -0.234]\n",
            " [ 0.649  0.161 -0.416  0.604  0.118]\n",
            " [-0.195  0.479 -0.726 -0.368 -0.263]\n",
            " [-0.046 -0.733 -0.328  0.132 -0.58 ]\n",
            " [ 0.024 -0.453 -0.404 -0.325  0.725]]\n"
          ],
          "name": "stdout"
        }
      ]
    },
    {
      "cell_type": "code",
      "metadata": {
        "colab": {
          "base_uri": "https://localhost:8080/"
        },
        "id": "vB8jkQsgPne4",
        "outputId": "672218df-99c8-4829-906a-4dd56a7ba20d"
      },
      "source": [
        "v@v.T"
      ],
      "execution_count": 30,
      "outputs": [
        {
          "output_type": "execute_result",
          "data": {
            "text/plain": [
              "array([[ 1., -0.,  0., -0., -0.],\n",
              "       [-0.,  1., -0.,  0.,  0.],\n",
              "       [ 0., -0.,  1., -0., -0.],\n",
              "       [-0.,  0., -0.,  1.,  0.],\n",
              "       [-0.,  0., -0.,  0.,  1.]])"
            ]
          },
          "metadata": {
            "tags": []
          },
          "execution_count": 30
        }
      ]
    },
    {
      "cell_type": "code",
      "metadata": {
        "id": "0KSDa6c2PpbV"
      },
      "source": [
        "# QR algorithm\n",
        "A = H\n",
        "loss = []\n",
        "for i in range(50):\n",
        "  Q,R = linalg.qr(A)\n",
        "  A = R.dot(Q)\n",
        "  loss.append(np.abs(A[0,0]-lambda_max))"
      ],
      "execution_count": 67,
      "outputs": []
    },
    {
      "cell_type": "code",
      "metadata": {
        "id": "G5r6OKS3QU92",
        "outputId": "c4215abe-d9e6-4bcd-9042-0b26846c0ee3",
        "colab": {
          "base_uri": "https://localhost:8080/",
          "height": 282
        }
      },
      "source": [
        "plt.plot(loss)"
      ],
      "execution_count": 68,
      "outputs": [
        {
          "output_type": "execute_result",
          "data": {
            "text/plain": [
              "[<matplotlib.lines.Line2D at 0x7f785ed52b00>]"
            ]
          },
          "metadata": {
            "tags": []
          },
          "execution_count": 68
        },
        {
          "output_type": "display_data",
          "data": {
            "image/png": "[encoded data removed]",
            "text/plain": [
              "<Figure size 432x288 with 1 Axes>"
            ]
          },
          "metadata": {
            "tags": [],
            "needs_background": "light"
          }
        }
      ]
    },
    {
      "cell_type": "code",
      "metadata": {
        "id": "WJqWvHpVSAGe"
      },
      "source": [
        ""
      ],
      "execution_count": null,
      "outputs": []
    }
  ]
}