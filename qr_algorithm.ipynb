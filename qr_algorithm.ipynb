{
  "nbformat": 4,
  "nbformat_minor": 0,
  "metadata": {
    "colab": {
      "name": "qr_algorithm.ipynb",
      "provenance": [],
      "authorship_tag": "ABX9TyNHtR8eG2gZFmW/C61ep9Bl",
      "include_colab_link": true
    },
    "kernelspec": {
      "name": "python3",
      "display_name": "Python 3"
    }
  },
  "cells": [
    {
      "cell_type": "markdown",
      "metadata": {
        "id": "view-in-github",
        "colab_type": "text"
      },
      "source": [
        "<a href=\"https://colab.research.google.com/github/xhxuciedu/CS206/blob/master/qr_algorithm.ipynb\" target=\"_parent\"><img src=\"https://colab.research.google.com/assets/colab-badge.svg\" alt=\"Open In Colab\"/></a>"
      ]
    },
    {
      "cell_type": "code",
      "metadata": {
        "id": "gAyQwYuvuqr1"
      },
      "source": [
        "import numpy as np\n",
        "from scipy import linalg"
      ],
      "execution_count": 1,
      "outputs": []
    },
    {
      "cell_type": "code",
      "metadata": {
        "id": "JyeCMo3GObDb"
      },
      "source": [
        "import matplotlib.pyplot as plt\n",
        "from pprint import pprint\n",
        "#np.set_printoptions(precision=3, suppress=False)\n",
        "np.set_printoptions(precision=3, suppress=True)\n",
        "#np.set_printoptions(formatter={\"float_kind\": lambda x: \"%g\" % x})"
      ],
      "execution_count": 2,
      "outputs": []
    },
    {
      "cell_type": "code",
      "metadata": {
        "id": "Ur9QWSRQuuyo"
      },
      "source": [
        "A = np.random.randn(5,5)"
      ],
      "execution_count": 3,
      "outputs": []
    },
    {
      "cell_type": "code",
      "metadata": {
        "id": "thUq9hPauzA4"
      },
      "source": [
        "# make A symmetric\n",
        "A = (A+A.T)/2"
      ],
      "execution_count": 4,
      "outputs": []
    },
    {
      "cell_type": "code",
      "metadata": {
        "id": "2ywgu2Lzu-z4",
        "colab": {
          "base_uri": "https://localhost:8080/"
        },
        "outputId": "59149963-bc85-46ff-8291-e17d61805d32"
      },
      "source": [
        "A"
      ],
      "execution_count": 5,
      "outputs": [
        {
          "output_type": "execute_result",
          "data": {
            "text/plain": [
              "array([[ 0.218, -0.109, -0.974, -1.243, -0.051],\n",
              "       [-0.109,  0.711,  0.25 ,  0.69 ,  0.215],\n",
              "       [-0.974,  0.25 , -0.118,  1.211,  0.531],\n",
              "       [-1.243,  0.69 ,  1.211,  0.2  ,  0.527],\n",
              "       [-0.051,  0.215,  0.531,  0.527, -0.782]])"
            ]
          },
          "metadata": {
            "tags": []
          },
          "execution_count": 5
        }
      ]
    },
    {
      "cell_type": "markdown",
      "metadata": {
        "id": "7qplZdfLvVGP"
      },
      "source": [
        "## Calculate Hessenberg form of A"
      ]
    },
    {
      "cell_type": "code",
      "metadata": {
        "id": "g9n7qN4WvEdd"
      },
      "source": [
        "from scipy.linalg import hessenberg"
      ],
      "execution_count": 6,
      "outputs": []
    },
    {
      "cell_type": "code",
      "metadata": {
        "colab": {
          "base_uri": "https://localhost:8080/"
        },
        "id": "yHRvg4qKO2Ra",
        "outputId": "61951f1b-5306-44b7-f245-3c1e983d08e6"
      },
      "source": [
        "A = np.random.randn(5,5)\n",
        "H, Q = hessenberg(A, calc_q=True)\n",
        "print(H)"
      ],
      "execution_count": 7,
      "outputs": [
        {
          "output_type": "stream",
          "text": [
            "[[ 0.663 -2.564 -1.278 -0.233 -0.348]\n",
            " [-1.317 -0.375  0.153 -2.281  0.276]\n",
            " [ 0.    -2.245  0.604  0.31   1.103]\n",
            " [ 0.     0.     0.904 -1.881 -0.583]\n",
            " [ 0.     0.     0.     1.705  0.155]]\n"
          ],
          "name": "stdout"
        }
      ]
    },
    {
      "cell_type": "code",
      "metadata": {
        "id": "TXbT6KYZvQSy",
        "colab": {
          "base_uri": "https://localhost:8080/"
        },
        "outputId": "d07bd696-2c61-471c-cbb2-58404dff5224"
      },
      "source": [
        "A = np.random.randn(5,5)\n",
        "H, Q = hessenberg(A+A.T, calc_q=True)\n",
        "print(H)"
      ],
      "execution_count": 8,
      "outputs": [
        {
          "output_type": "stream",
          "text": [
            "[[ 0.066  2.821 -0.     0.     0.   ]\n",
            " [ 2.821  0.223 -1.206  0.     0.   ]\n",
            " [ 0.    -1.206 -0.075  2.242  0.   ]\n",
            " [ 0.     0.     2.242 -3.038 -0.901]\n",
            " [ 0.     0.     0.    -0.901  1.415]]\n"
          ],
          "name": "stdout"
        }
      ]
    },
    {
      "cell_type": "code",
      "metadata": {
        "id": "ySQDt__HOzEs"
      },
      "source": [
        ""
      ],
      "execution_count": 8,
      "outputs": []
    },
    {
      "cell_type": "markdown",
      "metadata": {
        "id": "d2zi20u7vRWR"
      },
      "source": [
        "## Run QR algorithm"
      ]
    },
    {
      "cell_type": "code",
      "metadata": {
        "id": "lbH0bFAvx1Xp"
      },
      "source": [
        "# QR algorithm\n",
        "A = H\n",
        "for i in range(50):\n",
        "  Q,R = linalg.qr(A)\n",
        "  A = R.dot(Q)"
      ],
      "execution_count": 9,
      "outputs": []
    },
    {
      "cell_type": "code",
      "metadata": {
        "id": "N82y8LcXx1im",
        "colab": {
          "base_uri": "https://localhost:8080/"
        },
        "outputId": "65c86e9d-e578-45aa-8429-eef290f74791"
      },
      "source": [
        "print(A)"
      ],
      "execution_count": 10,
      "outputs": [
        {
          "output_type": "stream",
          "text": [
            "[[-4.467  0.    -0.    -0.    -0.   ]\n",
            " [ 0.     3.281  0.     0.     0.   ]\n",
            " [ 0.     0.    -2.734  0.    -0.   ]\n",
            " [ 0.     0.     0.     1.734  0.   ]\n",
            " [ 0.     0.     0.    -0.     0.777]]\n"
          ],
          "name": "stdout"
        }
      ]
    },
    {
      "cell_type": "code",
      "metadata": {
        "id": "_PvS2pRvyHqD"
      },
      "source": [
        "w, v = np.linalg.eig(H)"
      ],
      "execution_count": 11,
      "outputs": []
    },
    {
      "cell_type": "code",
      "metadata": {
        "id": "Q6v-ANXHyVsm",
        "colab": {
          "base_uri": "https://localhost:8080/"
        },
        "outputId": "e17ffc09-b658-4c3b-9a85-a92d61002ead"
      },
      "source": [
        "print(w)"
      ],
      "execution_count": 12,
      "outputs": [
        {
          "output_type": "stream",
          "text": [
            "[-4.467 -2.734  3.281  0.777  1.734]\n"
          ],
          "name": "stdout"
        }
      ]
    },
    {
      "cell_type": "code",
      "metadata": {
        "id": "yn7K7OBwSI0U",
        "colab": {
          "base_uri": "https://localhost:8080/"
        },
        "outputId": "43c99c2d-fb6d-45c0-d076-781b1fc741df"
      },
      "source": [
        "lambda_max = w[np.argmax(np.abs(w))]\n",
        "print('Largest eigenvalue: ', lambda_max)"
      ],
      "execution_count": 13,
      "outputs": [
        {
          "output_type": "stream",
          "text": [
            "Largest eigenvalue:  -4.466909391154745\n"
          ],
          "name": "stdout"
        }
      ]
    },
    {
      "cell_type": "code",
      "metadata": {
        "colab": {
          "base_uri": "https://localhost:8080/"
        },
        "id": "m8tYp9JoPmjH",
        "outputId": "1a619cfb-43f4-4054-cf11-96395dc5ce6f"
      },
      "source": [
        "print(v)"
      ],
      "execution_count": 14,
      "outputs": [
        {
          "output_type": "stream",
          "text": [
            "[[ 0.123  0.677 -0.614 -0.336 -0.192]\n",
            " [-0.198 -0.672 -0.699 -0.085 -0.114]\n",
            " [-0.481 -0.064  0.337 -0.746 -0.307]\n",
            " [ 0.836 -0.286  0.129 -0.329 -0.309]\n",
            " [ 0.128 -0.062 -0.062 -0.464  0.872]]\n"
          ],
          "name": "stdout"
        }
      ]
    },
    {
      "cell_type": "code",
      "metadata": {
        "colab": {
          "base_uri": "https://localhost:8080/"
        },
        "id": "vB8jkQsgPne4",
        "outputId": "cc1661c6-5a78-4d57-8c57-edb6904cf1ad"
      },
      "source": [
        "v@v.T"
      ],
      "execution_count": 15,
      "outputs": [
        {
          "output_type": "execute_result",
          "data": {
            "text/plain": [
              "array([[ 1.,  0.,  0.,  0., -0.],\n",
              "       [ 0.,  1.,  0.,  0., -0.],\n",
              "       [ 0.,  0.,  1., -0.,  0.],\n",
              "       [ 0.,  0., -0.,  1.,  0.],\n",
              "       [-0., -0.,  0.,  0.,  1.]])"
            ]
          },
          "metadata": {
            "tags": []
          },
          "execution_count": 15
        }
      ]
    },
    {
      "cell_type": "markdown",
      "metadata": {
        "id": "bX3jNAojUVMy"
      },
      "source": [
        "## Check convergene rate"
      ]
    },
    {
      "cell_type": "code",
      "metadata": {
        "id": "DRIO6EPNaHqr"
      },
      "source": [
        "w,v=np.linalg.eig(A)"
      ],
      "execution_count": 113,
      "outputs": []
    },
    {
      "cell_type": "code",
      "metadata": {
        "id": "4HbSMpSgZjRH"
      },
      "source": [
        "A = np.random.randn(10,10)/np.sqrt(10)\n",
        "A = A+A.T\n",
        "H, Q = hessenberg(A, calc_q=True)\n",
        "#print(H)"
      ],
      "execution_count": 161,
      "outputs": []
    },
    {
      "cell_type": "markdown",
      "metadata": {
        "id": "8ib-Ud2qZNgW"
      },
      "source": [
        "Pure QR Algorithm \n",
        "\n",
        "Linear convergence"
      ]
    },
    {
      "cell_type": "code",
      "metadata": {
        "id": "0KSDa6c2PpbV"
      },
      "source": [
        "# Pure QR algorithm\n",
        "A = H\n",
        "loss = []\n",
        "for i in range(1000):\n",
        "  Q,R = linalg.qr(A)\n",
        "  A = R.dot(Q)\n",
        "  diff = np.linalg.norm(A-np.diag(np.diag(A)),ord='fro')\n",
        "  loss.append(diff)"
      ],
      "execution_count": 170,
      "outputs": []
    },
    {
      "cell_type": "code",
      "metadata": {
        "id": "G5r6OKS3QU92",
        "colab": {
          "base_uri": "https://localhost:8080/",
          "height": 350
        },
        "outputId": "1ad6f7e8-f8a1-42da-a38e-f360ee642a07"
      },
      "source": [
        "fig, ax = plt.subplots(figsize=(10,5))\n",
        "ax.plot(np.array(loss))\n",
        "ax.set_xlabel('# iterations')\n",
        "ax.set_ylabel('Error')\n",
        "ax.set_yscale('log')\n",
        "ax.set_title('Pure QR Algorithm')\n",
        "ax.grid()"
      ],
      "execution_count": 171,
      "outputs": [
        {
          "output_type": "display_data",
          "data": {
            "image/png": "[encoded data removed]",
            "text/plain": [
              "<Figure size 720x360 with 1 Axes>"
            ]
          },
          "metadata": {
            "tags": [],
            "needs_background": "light"
          }
        }
      ]
    },
    {
      "cell_type": "code",
      "metadata": {
        "id": "ZBJuj-kcW-3m",
        "outputId": "a0db0393-a9cb-4113-96f4-992c6523af02",
        "colab": {
          "base_uri": "https://localhost:8080/"
        }
      },
      "source": [
        "print('Eigenvalues: ', np.diag(A))"
      ],
      "execution_count": 172,
      "outputs": [
        {
          "output_type": "stream",
          "text": [
            "Eigenvalues:  [ 2.459 -2.196 -1.771 -1.431  1.3    1.146  0.614 -0.609  0.27   0.112]\n"
          ],
          "name": "stdout"
        }
      ]
    },
    {
      "cell_type": "markdown",
      "metadata": {
        "id": "GNsmUn4JZIsU"
      },
      "source": [
        "## Shift QR Algorithm"
      ]
    },
    {
      "cell_type": "code",
      "metadata": {
        "id": "Qe23UMDXcLtM"
      },
      "source": [
        "def wilkinson_shift(B):\n",
        "  # B is 2 x 2 matrix\n",
        "  delta = (B[0,0]-B[1,1])/2\n",
        "  mu = B[1,1] - np.sign(delta)*B[0,1]*B[0,1]/(np.abs(delta)+np.sqrt(delta*delta+B[0,1]*B[0,1]))\n",
        "  return mu"
      ],
      "execution_count": 173,
      "outputs": []
    },
    {
      "cell_type": "code",
      "metadata": {
        "id": "pHjtcSobTuPS"
      },
      "source": [
        "# Shifted QR algorithm\n",
        "A = H\n",
        "loss = []\n",
        "eps = 1e-6\n",
        "eigs = []\n",
        "for i in range(100):\n",
        "  mu = A[-1,-1]\n",
        "  #mu = wilkinson_shift(A[-2:,-2:])\n",
        "  Q,R = linalg.qr(A-mu*np.identity(A.shape[0]))\n",
        "  A = R.dot(Q) + mu*np.identity(A.shape[0])\n",
        "\n",
        "  if np.abs(A[-1,-2])<eps:  # deflate, reduce to n-1 x n-1 matrix\n",
        "    A = A[:-1,:-1]\n",
        "    eigs.append(mu)\n",
        "\n",
        "  if A.shape[0]<=1:\n",
        "    eigs.append(A[0,0])\n",
        "    break\n",
        "\n",
        "  diff = np.linalg.norm(A-np.diag(np.diag(A)),ord='fro')\n",
        "  loss.append(diff)"
      ],
      "execution_count": 180,
      "outputs": []
    },
    {
      "cell_type": "code",
      "metadata": {
        "id": "MFXg0EAaVV9c",
        "outputId": "0951d5c5-cad1-48de-8284-59e9d4bf3348",
        "colab": {
          "base_uri": "https://localhost:8080/",
          "height": 350
        }
      },
      "source": [
        "fig, ax = plt.subplots(figsize=(10,5))\n",
        "ax.plot(np.array(loss))\n",
        "ax.set_xlabel('# iterations')\n",
        "ax.set_ylabel('Error')\n",
        "ax.set_yscale('log')\n",
        "ax.set_title('Shifted QR Algorithm')\n",
        "ax.grid()"
      ],
      "execution_count": 181,
      "outputs": [
        {
          "output_type": "display_data",
          "data": {
            "image/png": "[encoded data removed]",
            "text/plain": [
              "<Figure size 720x360 with 1 Axes>"
            ]
          },
          "metadata": {
            "tags": [],
            "needs_background": "light"
          }
        }
      ]
    },
    {
      "cell_type": "code",
      "metadata": {
        "id": "t9u74Bf3VtOV",
        "outputId": "75f0c322-d2e6-4c93-a263-e713c942b5af",
        "colab": {
          "base_uri": "https://localhost:8080/"
        }
      },
      "source": [
        "print('Eigenvalues: ', np.array(eigs))"
      ],
      "execution_count": 159,
      "outputs": [
        {
          "output_type": "stream",
          "text": [
            "Eigenvalues:  [-0.12  -0.09  -0.041 -0.307 -0.289 -0.543 -0.408 -0.576  0.101  0.247\n",
            "  0.285  0.425 -0.792 -0.75  -0.954 -1.016 -1.074 -1.18   0.617  0.702\n",
            "  0.766  0.815  0.955 -1.257 -1.383 -1.453 -1.465  1.095  1.125 -1.54\n",
            "  1.368  1.427  1.48   1.596  1.695  1.715  1.824 -1.813  1.938  1.89\n",
            " -1.917 -2.09   2.156  2.207 -2.221 -2.268  2.297 -2.478  2.472 -2.595]\n"
          ],
          "name": "stdout"
        }
      ]
    },
    {
      "cell_type": "code",
      "metadata": {
        "id": "yxqdRZFDe6gM"
      },
      "source": [
        ""
      ],
      "execution_count": null,
      "outputs": []
    }
  ]
}