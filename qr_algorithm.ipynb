{
  "nbformat": 4,
  "nbformat_minor": 0,
  "metadata": {
    "colab": {
      "name": "qr_algorithm.ipynb",
      "provenance": [],
      "authorship_tag": "ABX9TyMXcQ9h2HMUPHs4neI8LHMC",
      "include_colab_link": true
    },
    "kernelspec": {
      "name": "python3",
      "display_name": "Python 3"
    }
  },
  "cells": [
    {
      "cell_type": "markdown",
      "metadata": {
        "id": "view-in-github",
        "colab_type": "text"
      },
      "source": [
        "<a href=\"https://colab.research.google.com/github/xhxuciedu/CS206/blob/master/qr_algorithm.ipynb\" target=\"_parent\"><img src=\"https://colab.research.google.com/assets/colab-badge.svg\" alt=\"Open In Colab\"/></a>"
      ]
    },
    {
      "cell_type": "code",
      "metadata": {
        "id": "gAyQwYuvuqr1",
        "colab_type": "code",
        "colab": {}
      },
      "source": [
        "import numpy as np"
      ],
      "execution_count": 0,
      "outputs": []
    },
    {
      "cell_type": "code",
      "metadata": {
        "id": "Ur9QWSRQuuyo",
        "colab_type": "code",
        "colab": {}
      },
      "source": [
        "A = np.random.randn(5,5)"
      ],
      "execution_count": 0,
      "outputs": []
    },
    {
      "cell_type": "code",
      "metadata": {
        "id": "thUq9hPauzA4",
        "colab_type": "code",
        "colab": {}
      },
      "source": [
        "# make A symmetric\n",
        "A = (A+A.T)/2"
      ],
      "execution_count": 0,
      "outputs": []
    },
    {
      "cell_type": "code",
      "metadata": {
        "id": "2ywgu2Lzu-z4",
        "colab_type": "code",
        "colab": {
          "base_uri": "https://localhost:8080/",
          "height": 102
        },
        "outputId": "6d320083-d61b-49ec-f3ad-acf7bcdf5f67"
      },
      "source": [
        "A"
      ],
      "execution_count": 11,
      "outputs": [
        {
          "output_type": "execute_result",
          "data": {
            "text/plain": [
              "array([[-0.77833798, -0.19190322, -0.12613364, -0.01428858, -0.55974396],\n",
              "       [-0.19190322,  0.73611207, -0.61334389,  0.42843068,  0.31337495],\n",
              "       [-0.12613364, -0.61334389, -0.09828931, -0.9227317 , -0.18030284],\n",
              "       [-0.01428858,  0.42843068, -0.9227317 , -1.1936998 ,  1.38357732],\n",
              "       [-0.55974396,  0.31337495, -0.18030284,  1.38357732,  0.42065415]])"
            ]
          },
          "metadata": {
            "tags": []
          },
          "execution_count": 11
        }
      ]
    },
    {
      "cell_type": "markdown",
      "metadata": {
        "id": "7qplZdfLvVGP",
        "colab_type": "text"
      },
      "source": [
        "## Calculate Hessenberg form of A"
      ]
    },
    {
      "cell_type": "code",
      "metadata": {
        "id": "g9n7qN4WvEdd",
        "colab_type": "code",
        "colab": {}
      },
      "source": [
        "from scipy.linalg import hessenberg"
      ],
      "execution_count": 0,
      "outputs": []
    },
    {
      "cell_type": "code",
      "metadata": {
        "id": "TXbT6KYZvQSy",
        "colab_type": "code",
        "colab": {}
      },
      "source": [
        "H, Q = hessenberg(A, calc_q=True)"
      ],
      "execution_count": 0,
      "outputs": []
    },
    {
      "cell_type": "code",
      "metadata": {
        "id": "phiNxCawvdV0",
        "colab_type": "code",
        "colab": {}
      },
      "source": [
        "np.set_printoptions(precision=3, suppress=True)\n",
        "#np.set_printoptions(formatter={\"float_kind\": lambda x: \"%g\" % x})\n"
      ],
      "execution_count": 0,
      "outputs": []
    },
    {
      "cell_type": "code",
      "metadata": {
        "id": "ABX9vLXgwIUR",
        "colab_type": "code",
        "colab": {
          "base_uri": "https://localhost:8080/",
          "height": 102
        },
        "outputId": "443202c1-10d2-4ef9-b00d-f1cf34bf9afa"
      },
      "source": [
        "print(H)"
      ],
      "execution_count": 29,
      "outputs": [
        {
          "output_type": "stream",
          "text": [
            "[[-0.778  0.605  0.     0.     0.   ]\n",
            " [ 0.605  0.52  -1.311  0.     0.   ]\n",
            " [ 0.    -1.311 -0.076  1.406 -0.   ]\n",
            " [ 0.     0.     1.406 -0.814 -0.583]\n",
            " [ 0.     0.     0.    -0.583  0.235]]\n"
          ],
          "name": "stdout"
        }
      ]
    },
    {
      "cell_type": "markdown",
      "metadata": {
        "id": "d2zi20u7vRWR",
        "colab_type": "text"
      },
      "source": [
        "## Run QR algorithm"
      ]
    },
    {
      "cell_type": "code",
      "metadata": {
        "id": "lbH0bFAvx1Xp",
        "colab_type": "code",
        "colab": {}
      },
      "source": [
        "# QR algorithm\n",
        "A = H\n",
        "for i in range(50):\n",
        "  Q,R = np.linalg.qr(A)\n",
        "  A = R.dot(Q)"
      ],
      "execution_count": 0,
      "outputs": []
    },
    {
      "cell_type": "code",
      "metadata": {
        "id": "N82y8LcXx1im",
        "colab_type": "code",
        "colab": {
          "base_uri": "https://localhost:8080/",
          "height": 102
        },
        "outputId": "fea09a07-65d1-48b3-d487-fcf71cf8b320"
      },
      "source": [
        "print(A)"
      ],
      "execution_count": 37,
      "outputs": [
        {
          "output_type": "stream",
          "text": [
            "[[-2.262  0.006 -0.    -0.    -0.   ]\n",
            " [ 0.006  1.98  -0.    -0.    -0.   ]\n",
            " [ 0.    -0.    -1.024  0.    -0.   ]\n",
            " [ 0.     0.     0.     0.545  0.   ]\n",
            " [ 0.     0.     0.    -0.    -0.153]]\n"
          ],
          "name": "stdout"
        }
      ]
    },
    {
      "cell_type": "code",
      "metadata": {
        "id": "_PvS2pRvyHqD",
        "colab_type": "code",
        "colab": {
          "base_uri": "https://localhost:8080/",
          "height": 119
        },
        "outputId": "1ae453e1-fe90-4497-c398-3c057caf1055"
      },
      "source": [
        "np.linalg.eig(H)"
      ],
      "execution_count": 40,
      "outputs": [
        {
          "output_type": "execute_result",
          "data": {
            "text/plain": [
              "(array([-2.262,  1.98 , -1.024, -0.153,  0.545]),\n",
              " array([[ 0.133,  0.141, -0.868, -0.418, -0.188],\n",
              "        [-0.326,  0.645,  0.352, -0.431, -0.411],\n",
              "        [-0.629, -0.653,  0.014, -0.414, -0.079],\n",
              "        [ 0.675, -0.353,  0.319, -0.379, -0.418],\n",
              "        [ 0.157,  0.118,  0.148, -0.569,  0.784]]))"
            ]
          },
          "metadata": {
            "tags": []
          },
          "execution_count": 40
        }
      ]
    },
    {
      "cell_type": "code",
      "metadata": {
        "id": "Q6v-ANXHyVsm",
        "colab_type": "code",
        "colab": {}
      },
      "source": [
        ""
      ],
      "execution_count": 0,
      "outputs": []
    }
  ]
}