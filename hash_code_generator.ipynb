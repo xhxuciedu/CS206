{
  "nbformat": 4,
  "nbformat_minor": 0,
  "metadata": {
    "colab": {
      "provenance": [],
      "authorship_tag": "ABX9TyMI171b7J+Iv+zRG/zALVdo",
      "include_colab_link": true
    },
    "kernelspec": {
      "name": "python3",
      "display_name": "Python 3"
    },
    "language_info": {
      "name": "python"
    }
  },
  "cells": [
    {
      "cell_type": "markdown",
      "metadata": {
        "id": "view-in-github",
        "colab_type": "text"
      },
      "source": [
        "<a href=\"https://colab.research.google.com/github/xhxuciedu/CS206/blob/master/hash_code_generator.ipynb\" target=\"_parent\"><img src=\"https://colab.research.google.com/assets/colab-badge.svg\" alt=\"Open In Colab\"/></a>"
      ]
    },
    {
      "cell_type": "code",
      "source": [
        "import hashlib\n",
        "from datetime import datetime"
      ],
      "metadata": {
        "id": "KseWP_Mb9jD0"
      },
      "execution_count": 15,
      "outputs": []
    },
    {
      "cell_type": "code",
      "execution_count": 21,
      "metadata": {
        "id": "GwR83-HU8rpV"
      },
      "outputs": [],
      "source": [
        "def hash_string(input_string):\n",
        "    # Create a new sha256 hash object\n",
        "    sha256 = hashlib.sha256()\n",
        "\n",
        "    # Update the object with the string encoded to bytes\n",
        "    sha256.update(input_string.encode('utf-8'))\n",
        "\n",
        "    # Get the hexadecimal representation of the hash\n",
        "    return sha256.hexdigest()"
      ]
    },
    {
      "cell_type": "code",
      "source": [
        "# # Test\n",
        "# string_to_hash = input(\"Enter a string to hash: \")\n",
        "# print(f\"Hashed String (SHA-256): {hash_string(string_to_hash)}\")"
      ],
      "metadata": {
        "id": "TKNMdXsA88_7"
      },
      "execution_count": 22,
      "outputs": []
    },
    {
      "cell_type": "code",
      "source": [
        "def hash_date():\n",
        "    # Get today's date in \"YYYY-MM-DD\" format\n",
        "    date_string = datetime.now().strftime('%Y-%m-%d')\n",
        "\n",
        "    # Create a new sha256 hash object\n",
        "    sha256 = hashlib.sha256()\n",
        "\n",
        "    # Update the object with the date string encoded to bytes\n",
        "    sha256.update(date_string.encode('utf-8'))\n",
        "\n",
        "    # Get the hexadecimal representation of the hash\n",
        "    return sha256.hexdigest()"
      ],
      "metadata": {
        "id": "rJHj4mTL9D6H"
      },
      "execution_count": 23,
      "outputs": []
    },
    {
      "cell_type": "code",
      "source": [
        "\n",
        "# Test\n",
        "print(f\"Today's Date Hashed (SHA-256): {hash_date()[:3]}\")"
      ],
      "metadata": {
        "colab": {
          "base_uri": "https://localhost:8080/"
        },
        "id": "MMz-33-l9l1_",
        "outputId": "283b6932-15c2-4678-a0d9-4598d1833ad3"
      },
      "execution_count": 24,
      "outputs": [
        {
          "output_type": "stream",
          "name": "stdout",
          "text": [
            "Today's Date Hashed (SHA-256): f99\n"
          ]
        }
      ]
    },
    {
      "cell_type": "code",
      "source": [
        "print(f\"Today's Date Hashed (SHA-256): {hash_date()[-3:]}\")"
      ],
      "metadata": {
        "colab": {
          "base_uri": "https://localhost:8080/"
        },
        "id": "Jb3ctZ019o32",
        "outputId": "174b9c58-8e24-4cf4-aca1-d00570029ab2"
      },
      "execution_count": 25,
      "outputs": [
        {
          "output_type": "stream",
          "name": "stdout",
          "text": [
            "Today's Date Hashed (SHA-256): 423\n"
          ]
        }
      ]
    },
    {
      "cell_type": "code",
      "source": [],
      "metadata": {
        "id": "bvEnVpMg-CbD"
      },
      "execution_count": null,
      "outputs": []
    }
  ]
}